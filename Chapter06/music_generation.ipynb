{
 "cells": [
  {
   "cell_type": "markdown",
   "metadata": {},
   "source": [
    "## Imports"
   ]
  },
  {
   "cell_type": "code",
   "execution_count": 1,
   "metadata": {
    "ExecuteTime": {
     "end_time": "2018-11-27T12:20:43.948987Z",
     "start_time": "2018-11-27T12:20:30.225783Z"
    }
   },
   "outputs": [],
   "source": [
    "import os\n",
    "import sys\n",
    "import numpy as np\n",
    "import random\n",
    "import skimage.io as io\n",
    "from struct import pack, unpack\n",
    "from io import StringIO, BytesIO\n",
    "from matplotlib import pyplot as plt\n",
    "\n",
    "import torch\n",
    "import torch.nn as nn\n",
    "from torch.autograd import Variable\n",
    "import torch.utils.data as data"
   ]
  },
  {
   "cell_type": "markdown",
   "metadata": {},
   "source": [
    "## Defining MIDI constants"
   ]
  },
  {
   "cell_type": "code",
   "execution_count": 2,
   "metadata": {},
   "outputs": [],
   "source": [
    "NOTE_MIDI_OFF = 0x80\n",
    "NOTE_MIDI_ON = 0x90\n",
    "A_TOUCH = 0xA0\n",
    "CONT_CONTROL = 0xB0 \n",
    "PATCH_CHG_MIDI = 0xC0\n",
    "CHNL_PRESS = 0xD0\n",
    "MIDI_PITCH_BND = 0xE0                                                                                  \n",
    "SYS_EXCL_MIDI = 0xF0\n",
    "MTC_MIDI = 0xF1\n",
    "SNG_POS_MIDI_POINTER = 0xF2\n",
    "SNG_SEL_MIDI = 0xF3\n",
    "TUNE_REQ_MIDI = 0xF6\n",
    "END_OFF_EXCL_MIDI = 0xF7 \n",
    "SEQ_NUM = 0x00  \n",
    "MIDI_TXT            = 0x01  \n",
    "MIDI_CR       = 0x02  \n",
    "SEQ_NAME_MIDI   = 0x03  \n",
    "INSTR_NAME_MIDI = 0x04  \n",
    "MIDI_LRC           = 0x05  \n",
    "MIDI_MRKR          = 0x06  \n",
    "CUEPNT_MIDI        = 0x07  \n",
    "PROG_NAME_MIDI    = 0x08  \n",
    "DVC_NAME     = 0x09  \n",
    "CH_PREF  = 0x20  \n",
    "PRT       = 0x21  \n",
    "E_O_T    = 0x2F  \n",
    "TMP           = 0x51  \n",
    "SMTP_MIDI_OFF     = 0x54  \n",
    "TIME_SIGN_MIDI  = 0x58  \n",
    "KEY_SIGN_MIDI   = 0x59  \n",
    "MIDI_SPEC        = 0x7F  \n",
    "MIDI_TRK_HEAD    = 'MTrk'\n",
    "MIDI_MET_EVNT     = 0xFF"
   ]
  },
  {
   "cell_type": "markdown",
   "metadata": {},
   "source": [
    "## MIDI handling code"
   ]
  },
  {
   "cell_type": "code",
   "execution_count": 3,
   "metadata": {},
   "outputs": [],
   "source": [
    "class MOStrm:\n",
    "    def __init__(self):\n",
    "        self._abs_t = 0\n",
    "        self._rel_t = 0\n",
    "        self._cur_trk = 0\n",
    "        self._run_stat = None\n",
    "    def time_update(self, t_new=0, rel_flag=1):\n",
    "        if rel_flag:\n",
    "            self._rel_t = t_new\n",
    "            self._abs_t += t_new\n",
    "        else:\n",
    "            self._rel_t = t_new - self._abs_t\n",
    "            self._abs_t = t_new\n",
    "    def t_reset(self):\n",
    "        self._rel_t = 0\n",
    "        self._abs_t = 0        \n",
    "    def t_rel(self):\n",
    "        return self._rel_t\n",
    "    def t_abs(self):\n",
    "        return self._abs_t    \n",
    "    def set_cur_trk(self, trk_new):\n",
    "        self._cur_trk = trk_new\n",
    "    def midi_nt_on(self, chnl=0, nt=0x40, vel=0x40):\n",
    "        pass\n",
    "    def midi_nt_off(self, chnl=0, nt=0x40, vel=0x40):\n",
    "        pass\n",
    "    def aft_tch(self, chnl=0, nt=0x40, vel=0x40):\n",
    "        pass\n",
    "    def cont_ctrl(self, chnl, crtler, v):\n",
    "        pass\n",
    "    def pch_chg(self, chnl, pch):\n",
    "        pass\n",
    "    def chnl_press(self, chnl, press):\n",
    "        pass\n",
    "    def pch_bnd(self, chnl, v):\n",
    "        pass\n",
    "    def sng_pos_ptr(self, v):\n",
    "        pass\n",
    "    def sng_sel(self, sng_num):\n",
    "        pass\n",
    "    def tun_req(self):\n",
    "        pass        \n",
    "    def t_cod(self, typ_m, vals):\n",
    "        pass\n",
    "    def hdr(self, fmt=0, num_trs=1, divs=96):\n",
    "        pass\n",
    "    def end_of_file(self):\n",
    "        pass\n",
    "    def mt_evt(self, mt_typ, d):\n",
    "        pass\n",
    "    def s_o_trk(self, num_trk=0):\n",
    "        pass\n",
    "    def e_o_trk(self):\n",
    "        pass\n",
    "    def seq_num(self, v):\n",
    "        pass\n",
    "    def txt(self, txt):\n",
    "        pass\n",
    "    def cr(self, txt):\n",
    "        pass\n",
    "    def seq_nam(self, txt):\n",
    "        pass\n",
    "    def inst_nam(self, txt):\n",
    "        pass\n",
    "    def lrc(self, txt):\n",
    "        pass\n",
    "    def mrkr(self, txt):\n",
    "        pass\n",
    "    def cuepnt(self, txt):\n",
    "        pass\n",
    "    def ch_prf(self, chnl):\n",
    "        pass\n",
    "    def m_prt(self, v):\n",
    "        pass\n",
    "    def tmp(self, v):\n",
    "        pass\n",
    "    def smtp_midi_off(self, hr, mn, sec, fm, fmprt):\n",
    "        pass\n",
    "    def t_sign_midi(self, n, d, c, b):\n",
    "        pass\n",
    "    def k_sign_midi(self, s, m):\n",
    "        pass\n",
    "    def seq_spc(self, d):\n",
    "        pass"
   ]
  },
  {
   "cell_type": "code",
   "execution_count": 4,
   "metadata": {},
   "outputs": [],
   "source": [
    "class MIFl:\n",
    "    def __init__(self, ostr, ifl):\n",
    "        self.r_input = RIStrFl(ifl)\n",
    "        self.prs = MFlPrsr(self.r_input, ostr)\n",
    "    def op_rd(self):\n",
    "        prs = self.prs\n",
    "        prs.pMdChk()\n",
    "        prs.pMTChks()\n",
    "    def d_set(self, d=''):\n",
    "        self.r_input.d_set(d)"
   ]
  },
  {
   "cell_type": "code",
   "execution_count": 5,
   "metadata": {},
   "outputs": [],
   "source": [
    "class MOFl(MOStrm):\n",
    "    def __init__(self, r_output=''):\n",
    "        self.r_output = ROStrFl(r_output)\n",
    "        MOStrm.__init__(self)    \n",
    "    def op_wrt(self):\n",
    "        self.r_output.op_wrt()\n",
    "    def midi_evt_slc(self, e_slice):\n",
    "        curr_track = self._cur_trk_bfr\n",
    "        curr_track.op_wrt_var_len(self.t_rel())\n",
    "        curr_track.op_wrt_slc(e_slice)\n",
    "    def midi_nt_on(self, chnl=0, nt=0x40, vel=0x40):\n",
    "        curr_slice = strm_to_data([NOTE_MIDI_ON + chnl, nt, vel])\n",
    "        self.midi_evt_slc(curr_slice)\n",
    "    def midi_nt_off(self, chnl=0, nt=0x40, vel=0x40):\n",
    "        curr_slice = strm_to_data([NOTE_MIDI_OFF + chnl, nt, vel])\n",
    "        self.midi_evt_slc(curr_slice)\n",
    "    def aft_tch(self, chnl=0, nt=0x40, vel=0x40):\n",
    "        curr_slice = strm_to_data([A_TOUCH + chnl, nt, vel])\n",
    "        self.midi_evt_slc(curr_slice)\n",
    "    def cont_ctrl(self, chnl, ctrler, v):\n",
    "        curr_slice = strm_to_data([CONT_CONTROL + chnl, ctrler, v])\n",
    "        self.midi_evt_slc(curr_slice)\n",
    "    def pch_chg(self, chnl, pch):\n",
    "        curr_slice = strm_to_data([PATCH_CHG_MIDI + chnl, pch])\n",
    "        self.midi_evt_slc(curr_slice)\n",
    "    def chnl_press(self, chnl, press):\n",
    "        curr_slice = strm_to_data([CHNL_PRESS + chnl, press])\n",
    "        self.midi_evt_slc(curr_slice)\n",
    "    def pch_bnd(self, chnl, v):\n",
    "        m = (v>>7) & 0xFF\n",
    "        l = v & 0xFF\n",
    "        curr_slice = strm_to_data([MIDI_PITCH_BND + chnl, m, l])\n",
    "        self.midi_evt_slc(curr_slice)\n",
    "    def t_cod(self, typ_m, vals):\n",
    "        v = (typ_m<<4) + vals\n",
    "        self.midi_evt_slc(strm_to_data([MIDI_TIME_CODE, v]))\n",
    "    def sng_pos_ptr(self, v):\n",
    "        l = (v & 0x7F)\n",
    "        m = (v >> 7) & 0x7F\n",
    "        self.midi_evt_slc(strm_to_data([SNG_POS_MIDI_POINTER, l, m]))\n",
    "    def sng_sel(self, sng_num):\n",
    "        self.midi_evt_slc(strm_to_data([SNG_SEL_MIDI, sng_num]))\n",
    "    def tun_req(self):\n",
    "        self.midi_evt_slc(chr(TUNE_REQ_MIDI))\n",
    "    def hdr(self, fmt=0, num_trs=1, divs=96):       \n",
    "        r_data = self.r_output\n",
    "        r_data.op_wrt_slc('MThd')\n",
    "        b = r_data.op_bew_wrt\n",
    "        b(6, 4)\n",
    "        b(fmt, 2)\n",
    "        b(num_trs, 2)\n",
    "        b(divs, 2)\n",
    "    def end_of_file(self):\n",
    "        self.op_wrt()\n",
    "    def m_slc(self, mt_typ, data_slice):\n",
    "        slc = strm_to_data([MIDI_MET_EVNT, mt_typ]) + \\\n",
    "                         op_wrt_var(len(data_slice)) +  data_slice\n",
    "        self.midi_evt_slc(slc)\n",
    "    def mt_evt(self, mt_typ, d):\n",
    "        self.m_slc(mt_typ, strm_to_data(d))\n",
    "    def s_o_trk(self, num_trk=0):\n",
    "        self._cur_trk_bfr = ROStrFl()\n",
    "        self.t_reset()\n",
    "        self._cur_trk += 1\n",
    "    def e_o_trk(self):\n",
    "        r_output = self.r_output\n",
    "        r_output.op_wrt_slc(MIDI_TRK_HEAD)\n",
    "        d_trk = self._cur_trk_bfr.fetch_val()\n",
    "        e_o_t_slc = op_wrt_var(self.t_rel()) + strm_to_data([MIDI_MET_EVNT, E_O_T, 0])\n",
    "        r_output.op_bew_wrt(len(d_trk)+len(e_o_t_slc), 4)\n",
    "        r_output.op_wrt_slc(d_trk)\n",
    "        r_output.op_wrt_slc(e_o_t_slc)\n",
    "    def seq_num(self, v):\n",
    "        self.m_slc(mt_typ, op_bew_wrt(v, 2))\n",
    "    def midi_txt(self, txt):\n",
    "        self.m_slc(MIDI_TXT, txt)\n",
    "    def cr(self, txt):\n",
    "        self.m_slc(MIDI_CR, txt)\n",
    "    def seq_nam(self, txt):\n",
    "        self.m_slc(SEQ_NAME_MIDI, txt)\n",
    "    def inst_nam(self, txt):\n",
    "        self.m_slc(INSTR_NAME_MIDI, txt)\n",
    "    def lrc(self, txt):\n",
    "        self.m_slc(MIDI_LRC, txt)\n",
    "    def mrkr(self, txt):\n",
    "        self.m_slc(MIDI_MRKR, txt)\n",
    "    def cuepnt(self, txt):\n",
    "        self.m_slc(CUEPNT_MIDI, txt)\n",
    "    def ch_prf(self, chnl):\n",
    "        self.m_slc(CH_PREF, chr(chnl))\n",
    "    def m_prt(self, v):\n",
    "        self.m_slc(CH_PREF, chr(v))\n",
    "    def tmp(self, v):\n",
    "        h, m, l = (v>>16 & 0xff), (v>>8 & 0xff), (v & 0xff)\n",
    "        self.m_slc(TMP, strm_to_data([h, m, l]))\n",
    "    def smtp_midi_off(self, hr, mn, sec, fm, fmprt):\n",
    "        self.m_slc(SMTP_MIDI_OFF, strm_to_data([hr, mn, sec, fm, fmprt]))\n",
    "    def t_sign_midi(self, n, d, c, b):\n",
    "        self.m_slc(TIME_SIGN_MIDI, strm_to_data([n, d, c, b]))\n",
    "    def k_sign_midi(self, s, m):\n",
    "        self.m_slc(KEY_SIGN_MIDI, strm_to_data([s, m]))\n",
    "    def seq_spc(self, d):\n",
    "        self.m_slc(SEQ_SPC, d)"
   ]
  },
  {
   "cell_type": "code",
   "execution_count": 6,
   "metadata": {},
   "outputs": [],
   "source": [
    "class RIStrFl:    \n",
    "    def __init__(self, ifl=''):\n",
    "        if ifl:\n",
    "            if isinstance(ifl, str):\n",
    "                ifl = open(ifl, 'rb')\n",
    "                self.d = ifl.read()\n",
    "                ifl.close()\n",
    "            else:\n",
    "                self.d = ifl.op_rd()\n",
    "        else:\n",
    "            self.d = ''\n",
    "        self.csr = 0\n",
    "    def d_set(self, d=''):\n",
    "        self.d = d\n",
    "    def get_csr(self):\n",
    "        return self.csr\n",
    "    def mv_csr(self, rl_ps=0):\n",
    "        self.csr += rl_ps\n",
    "    def nxt_slc(self, ln, mv_csr=1):\n",
    "        c = self.csr\n",
    "        slc = self.d[int(c):int(c+ln)]\n",
    "        if mv_csr:\n",
    "            self.mv_csr(ln)\n",
    "        return slc\n",
    "    def b_read(self, num_bts=1, mv_csr=1):\n",
    "        return b_read(self.nxt_slc(num_bts, mv_csr))\n",
    "    def op_rd_var_len(self):\n",
    "        MX_VLN = 4\n",
    "        v = op_rd_var(self.nxt_slc(MX_VLN, 0))\n",
    "        self.mv_csr(get_len_var(v))\n",
    "        return v"
   ]
  },
  {
   "cell_type": "code",
   "execution_count": 7,
   "metadata": {},
   "outputs": [],
   "source": [
    "class ROStrFl:\n",
    "    def __init__(self, ofl=''):\n",
    "        self.bfr = BytesIO()\n",
    "        self.ofl = ofl\n",
    "    def op_wrt_slc(self, s_slc):\n",
    "        if isinstance(s_slc, str):\n",
    "            self.bfr.write(s_slc.encode())\n",
    "        else:\n",
    "            self.bfr.write(s_slc)\n",
    "    def op_bew_wrt(self, v, ln=1):\n",
    "        self.op_wrt_slc(op_bew_wrt(v, ln))\n",
    "    def op_wrt_var_len(self, v):\n",
    "        var = self.op_wrt_slc(op_wrt_var(v))\n",
    "    def op_wrt(self):\n",
    "        if self.ofl:\n",
    "            if isinstance(self.ofl, str):\n",
    "                ofl = open(self.ofl, 'wb')\n",
    "                ofl.write(self.fetch_val())\n",
    "                ofl.close()\n",
    "            else:\n",
    "                self.ofl.op_wrt(self.fetch_val())\n",
    "        else:\n",
    "            sys.stdout.op_wrt(self.fetch_val())                \n",
    "    def fetch_val(self):\n",
    "        return self.bfr.getvalue()"
   ]
  },
  {
   "cell_type": "code",
   "execution_count": 8,
   "metadata": {},
   "outputs": [],
   "source": [
    "class MFlPrsr:\n",
    "    def __init__(self, r_input, ostr):\n",
    "        self.r_input = r_input\n",
    "        self.dpch = EvtDspch(ostr)\n",
    "        self._run_stat = None\n",
    "    def pMdChk(self):\n",
    "        r_input = self.r_input\n",
    "        hd_chk_typ = r_input.nxt_slc(4)\n",
    "        hd_chk_sz = r_input.b_read(4)\n",
    "        if hd_chk_typ != b'MThd':\n",
    "            raise TypeError(\"Invalid file type - non MIDI !\")\n",
    "        self.fmt = r_input.b_read(2)\n",
    "        self.num_tr = r_input.b_read(2)\n",
    "        self.divs = r_input.b_read(2)\n",
    "        if hd_chk_sz > 6:\n",
    "            r_input.mv_csr(hd_chk_sz-6)\n",
    "        self.dpch.hdr(self.fmt, self.num_tr, self.divs)\n",
    "    def pMTChk(self):\n",
    "        self.dpch.t_reset()        \n",
    "        dpch = self.dpch\n",
    "        r_input = self.r_input\n",
    "        dpch.s_o_trk(self._cur_trk)\n",
    "        r_input.mv_csr(4)\n",
    "        tr_len = r_input.b_read(4)\n",
    "        tr_end = r_input.get_csr() + tr_len\n",
    "        while r_input.get_csr() < tr_end:\n",
    "            t = r_input.op_rd_var_len()\n",
    "            dpch.time_update(t)\n",
    "            pk_fwd = r_input.b_read(mv_csr=0)\n",
    "            if (pk_fwd & 0x80): \n",
    "                st = self._run_stat = r_input.b_read()\n",
    "            else:\n",
    "                st = self._run_stat\n",
    "            h_n, l_n = st & 0xF0, st & 0x0F\n",
    "            if st == MIDI_MET_EVNT:\n",
    "                mt_typ = r_input.b_read()\n",
    "                mt_ln = r_input.op_rd_var_len()\n",
    "                mt_d = r_input.nxt_slc(mt_ln)\n",
    "                dpch.mt_evt(mt_typ, mt_d)\n",
    "            elif st == SYS_EXCL_MIDI:\n",
    "                ssx_ln = r_input.op_rd_var_len()\n",
    "                ssx_d = r_input.nxt_slc(ssx_ln-1)\n",
    "                if r_input.b_read(mv_csr=0) == END_OFF_EXCL_MIDI:\n",
    "                    e_o_ssx = r_input.b_read()\n",
    "                dpch.ssx_ev(ssx_d)\n",
    "            elif h_n == 0xF0:\n",
    "                d_sz = {\n",
    "                    MTC_MIDI:1,\n",
    "                    SNG_POS_MIDI_POINTER:2,\n",
    "                    SNG_SEL_MIDI:1,\n",
    "                }\n",
    "                d_s = d_sz.get(h_n, 0)\n",
    "                cmn_d = r_input.nxt_slc(d_s)\n",
    "                cmn_t = l_n\n",
    "                dpch.sys_cmn(cmn_t, cmn_d)\n",
    "            else:\n",
    "                d_sz = {\n",
    "                    PATCH_CHG_MIDI:1,\n",
    "                    CHNL_PRESS:1,\n",
    "                    NOTE_MIDI_OFF:2,\n",
    "                    NOTE_MIDI_ON:2,\n",
    "                    A_TOUCH:2,\n",
    "                    CONT_CONTROL:2,\n",
    "                    MIDI_PITCH_BND:2,\n",
    "                }\n",
    "                d_s = d_sz.get(h_n, 0)\n",
    "                ch_d = r_input.nxt_slc(d_s)\n",
    "                ev_ty, chnl = h_n, l_n\n",
    "                dpch.chnl_msg(ev_ty, chnl, ch_d)\n",
    "    def pMTChks(self):\n",
    "        for t in range(self.num_tr):\n",
    "            self._cur_trk = t\n",
    "            self.pMTChk()\n",
    "        self.dpch.end_of_file()"
   ]
  },
  {
   "cell_type": "code",
   "execution_count": 9,
   "metadata": {},
   "outputs": [],
   "source": [
    "class EvtDspch:\n",
    "    def __init__(self, ostr):\n",
    "        self.ostr = ostr\n",
    "        self.conv_vel_zero = 1\n",
    "        self.cont_ctrl_dpch = 1\n",
    "        self.dpch = 1\n",
    "    def hdr(self, fmt, num_trs, divs):\n",
    "        self.ostr.hdr(fmt, num_trs, divs)\n",
    "    def s_o_trk(self, cur_trk):\n",
    "        self.ostr.set_cur_trk(cur_trk)\n",
    "        self.ostr.s_o_trk(cur_trk)\n",
    "    def ssx_ev(self, d):\n",
    "        self.ostr.ssx_ev(d)\n",
    "    def end_of_file(self):\n",
    "        self.ostr.end_of_file()\n",
    "    def time_update(self, t_new=0, rel_flag=1):\n",
    "        self.ostr.time_update(t_new, rel_flag)\n",
    "    def t_reset(self):\n",
    "        self.ostr.t_reset()\n",
    "    def chnl_msg(self, h_n, chnl, d):\n",
    "        strm = self.ostr\n",
    "        d = data_to_strm(d)\n",
    "        if (NOTE_MIDI_ON & 0xF0) == h_n:\n",
    "            nt, vel = d\n",
    "            if vel==0 and self.conv_vel_zero:\n",
    "                strm.midi_nt_off(chnl, nt, 0x40)\n",
    "            else:\n",
    "                strm.midi_nt_on(chnl, nt, vel)        \n",
    "        elif (NOTE_MIDI_OFF & 0xF0) == h_n:\n",
    "            nt, vel = d\n",
    "            strm.midi_nt_off(chnl, nt, vel)        \n",
    "        elif (A_TOUCH & 0xF0) == h_n:\n",
    "            nt, vel = d\n",
    "            strm.aft_tch(chnl, nt, vel)        \n",
    "        elif (CONT_CONTROL & 0xF0) == h_n:\n",
    "            ctrlr, v = d\n",
    "            if self.cont_ctrl_dpch:\n",
    "                self.cnt_ctrls(chnl, ctrlr, v)\n",
    "            else:\n",
    "                strm.cont_ctrl(chnl, ctrlr, v)\n",
    "        elif (PATCH_CHG_MIDI & 0xF0) == h_n:\n",
    "            prg = d[0]\n",
    "            strm.pch_chg(chnl, prg)    \n",
    "        elif (CHNL_PRESS & 0xF0) == h_n:\n",
    "            press = d[0]\n",
    "#             strm.ch_press(chnl, press)            \n",
    "        elif (MIDI_PITCH_BND & 0xF0) == h_n:\n",
    "            hb, lb = d\n",
    "            v = (hb<<7) + lb\n",
    "            strm.pch_bnd(chnl, v)\n",
    "        else:\n",
    "            raise ValueError('Channel message error - illegal message !')            \n",
    "    def cnt_ctrls(self, chnl, ctrlr, v):\n",
    "        strm = self.ostr\n",
    "        strm.cont_ctrl(chnl, ctrlr, v)\n",
    "    def mt_evt(self, mt_typ, d):\n",
    "        strm = self.ostr\n",
    "        if mt_typ == SEQ_NUM:\n",
    "            n = b_read(d)\n",
    "            strm.seq_num(n)\n",
    "        elif mt_typ == MIDI_TXT:\n",
    "            strm.txt(d)\n",
    "        elif mt_typ == MIDI_CR:\n",
    "            strm.cr(d)\n",
    "        elif mt_typ == SEQ_NAME_MIDI:\n",
    "            strm.seq_nam(d)\n",
    "        elif mt_typ == INSTR_NAME_MIDI:\n",
    "            strm.inst_nam(d)\n",
    "        elif mt_typ == MIDI_LRC:\n",
    "            strm.lrc(d)\n",
    "        elif mt_typ == MIDI_MRKR:\n",
    "            strm.mrkr(d)\n",
    "        elif mt_typ == CUEPNT_MIDI:\n",
    "            strm.cuepnt(d)\n",
    "        elif mt_typ == DVC_NAME:\n",
    "            strm.dvc_nam(d)\n",
    "        elif mt_typ == CH_PREF:\n",
    "            chnl = b_read(d)\n",
    "            strm.ch_prf(chnl)\n",
    "        elif mt_typ == PRT:\n",
    "            port = b_read(d)\n",
    "            strm.m_prt(port)\n",
    "        elif mt_typ == E_O_T:\n",
    "            strm.e_o_trk()\n",
    "        elif mt_typ == TMP:\n",
    "            b1, b2, b3 = data_to_strm(d)\n",
    "            strm.tmp((b1<<16) + (b2<<8) + b3)\n",
    "        elif mt_typ == SMTP_MIDI_OFF:\n",
    "            hr, mn, sec, fm, fmprt = data_to_strm(d)\n",
    "            strm.smtp_midi_off(\n",
    "                    hr, mn, sec, fm, fmprt)\n",
    "        elif mt_typ == TIME_SIGN_MIDI:\n",
    "            n, d, c, b = data_to_strm(d)\n",
    "            strm.t_sign_midi(n, d, c, b)\n",
    "        elif mt_typ == KEY_SIGN_MIDI:\n",
    "            sf, mi = data_to_strm(d)\n",
    "            strm.k_sign_midi(sf, mi)\n",
    "        elif mt_typ == MIDI_SPEC:\n",
    "            mt_d = data_to_strm(d)\n",
    "            strm.seq_spc(mt_d)\n",
    "        else:\n",
    "            mt_d = data_to_strm(d)\n",
    "            strm.meta_event(mt_typ, mt_d)"
   ]
  },
  {
   "cell_type": "code",
   "execution_count": 10,
   "metadata": {},
   "outputs": [],
   "source": [
    "def b_read(v):\n",
    "    return unpack('>%s' % {1:'B', 2:'H', 4:'L'}[len(v)], v)[0]\n",
    "def op_bew_wrt(v, l):\n",
    "    return pack('>%s' % {1:'B', 2:'H', 4:'L'}[l], v)\n",
    "def op_rd_var(v):\n",
    "    count = 0\n",
    "    for b in unpack('%sB' % len(v), v):\n",
    "        count = (count << 7) + (b & 0x7F)\n",
    "        if not 0x80 & b: \n",
    "            break\n",
    "    return count\n",
    "def get_len_var(v):\n",
    "    if v <= 127:\n",
    "        return 1\n",
    "    elif v <= 16383:\n",
    "        return 2\n",
    "    elif v <= 2097151:\n",
    "        return 3\n",
    "    else:\n",
    "        return 4\n",
    "def op_wrt_var(v):\n",
    "    s = data_to_bits(v, get_len_var(v))\n",
    "    for i in range(len(s)-1):\n",
    "        s[i] = s[i] | 0x80\n",
    "    return strm_to_data(s)\n",
    "def data_to_bits(v, l=1, nbs=7):\n",
    "    b = [(v >> (j*nbs)) & 0x7F for j in range(l)]\n",
    "    b.reverse()\n",
    "    return b\n",
    "def data_to_strm(v):\n",
    "    return unpack('%sB' % len(v), v)\n",
    "def strm_to_data(v):\n",
    "    if not v: return ''\n",
    "    return pack('%sB' % len(v), *v)"
   ]
  },
  {
   "cell_type": "code",
   "execution_count": 11,
   "metadata": {},
   "outputs": [],
   "source": [
    "class MidiDataRead(MOStrm):\n",
    "  def __init__(self, fname, rng=(21, 109), dtm=0.2):\n",
    "    self.nts = []\n",
    "    self._tmp = 500000\n",
    "    self.bt = 0\n",
    "    self.t = 0.0\n",
    "    m_in = MIFl(self, fname)\n",
    "    m_in.op_rd()\n",
    "    self.nts = [n for n in self.nts if n[2] is not None]  \n",
    "    ln = int(np.ceil(max(list(zip(*self.nts))[2]) / dtm))  \n",
    "    self.pio_rl = np.zeros((ln, rng[1]-rng[0]))\n",
    "    for n in self.nts:\n",
    "      self.pio_rl[int(np.ceil(n[1]/dtm)) : int(np.ceil(n[2]/dtm)), n[0]-rng[0]] = 1\n",
    "  def t_in_sec(self):\n",
    "    return self.t + self._tmp * (self.t_abs() - self.bt) * 1e-6 / self.div\n",
    "  def tmp(self, v):\n",
    "    self.t = self.t_in_sec()\n",
    "    self.bt = self.t_abs()\n",
    "    self._tmp = v  \n",
    "  def hdr(self, fmt=0, num_tr=1, divs=96):\n",
    "    self.div = divs\n",
    "  def midi_nt_on(self, chnl=0, nt=0x40, vel=0x40):\n",
    "    self.nts.append([nt, self.t_in_sec(), None])\n",
    "  def midi_nt_off(self, chnl=0, nt=0x40, vel=0x40):\n",
    "    i = len(self.nts) - 1\n",
    "    while i >= 0 and self.nts[i][0] != nt:\n",
    "      i -= 1\n",
    "    if i >= 0 and self.nts[i][2] is None:\n",
    "      self.nts[i][2] = self.t_in_sec()\n",
    "  def ssx_ev(*args):\n",
    "    pass\n",
    "  def dvc_nam(*args):\n",
    "    pass\n",
    "def midiwrite(fname, pio_rl, rng=(21, 109), dtm=0.2, patch=0):\n",
    "  md = MOFl(fname)\n",
    "  md.hdr(divs=100)\n",
    "  md.s_o_trk() \n",
    "  md.pch_chg(chnl=0, pch=patch)\n",
    "  tm = 0\n",
    "  smp = [i.nonzero()[0] + rng[0] for i in pio_rl]\n",
    "  for i in range(len(smp)):\n",
    "    for f in smp[i]:\n",
    "      if i==0 or f not in smp[i-1]:\n",
    "        md.time_update(tm)\n",
    "        md.midi_nt_on(chnl=0, nt=f, vel=90)\n",
    "        tm = 0\n",
    "    tm += int(dtm*200)\n",
    "    for f in smp[i]:\n",
    "      if i==len(smp)-1 or f not in smp[i+1]:\n",
    "        md.time_update(tm)\n",
    "        md.midi_nt_off(chnl=0, nt=f, vel=0)\n",
    "        tm = 0\n",
    "  md.time_update(0)\n",
    "  md.e_o_trk()\n",
    "  md.end_of_file()"
   ]
  },
  {
   "cell_type": "markdown",
   "metadata": {},
   "source": [
    "# PyTorch CODE STARTS HERE !"
   ]
  },
  {
   "cell_type": "markdown",
   "metadata": {},
   "source": [
    "## Dataset Instructions\n",
    "- For this exercise, we will be using a set of Mozart’s compositions. \n",
    "- We download the dataset from here: http://www.piano-midi.de/zip/mozart.zip . \n",
    "- The downloaded folder consists of 21 MIDI files which we shall split into 18 training and 3 validation set files (alphabetically).  \n",
    "- We create two subfolders within the mozart folder - train and valid where we move the 18 training and 3 validation files respectively\n",
    "- The downloaded data should be stored under ./mozart/train and ./mozart/valid"
   ]
  },
  {
   "cell_type": "markdown",
   "metadata": {},
   "source": [
    "## DataLoader"
   ]
  },
  {
   "cell_type": "code",
   "execution_count": 12,
   "metadata": {
    "ExecuteTime": {
     "end_time": "2018-11-27T12:20:52.867674Z",
     "start_time": "2018-11-27T12:20:52.819795Z"
    }
   },
   "outputs": [],
   "source": [
    "def md_fl_to_pio_rl(md_fl):    \n",
    "    md_d = MidiDataRead(md_fl, dtm=0.3)\n",
    "    pio_rl = md_d.pio_rl.transpose()\n",
    "    pio_rl[pio_rl > 0] = 1    \n",
    "    return pio_rl\n",
    "def pd_pio_rl(pio_rl, mx_l=132333, pd_v=0):        \n",
    "    orig_rol_len = pio_rl.shape[1]    \n",
    "    pdd_rol = np.zeros((88, mx_l))\n",
    "    pdd_rol[:] = pd_v    \n",
    "    pdd_rol[:, - orig_rol_len:] = pio_rl\n",
    "    return pdd_rol\n",
    "class NtGenDataset(data.Dataset):    \n",
    "    def __init__(self, md_pth, mx_seq_ln=1491):        \n",
    "        self.md_pth = md_pth        \n",
    "        md_fnames = os.listdir(md_pth)        \n",
    "        self.mx_seq_ln = mx_seq_ln        \n",
    "        md_fnames_ful = map(lambda fname: os.path.join(md_pth, fname),md_fnames)        \n",
    "        self.md_fnames_ful = list(md_fnames_ful)        \n",
    "        if mx_seq_ln is None:            \n",
    "            self.mx_len_upd()    \n",
    "    def mx_len_upd(self):        \n",
    "        seq_lens = map(lambda fname: md_fl_to_pio_rl(fname).shape[1],self.md_fnames_ful)        \n",
    "        mx_l = max(seq_lens)\n",
    "        self.mx_seq_ln = mx_l    \n",
    "    def __len__(self):        \n",
    "        return len(self.md_fnames_ful)    \n",
    "    def __getitem__(self, index):        \n",
    "        md_fname_ful = self.md_fnames_ful[index]        \n",
    "        pio_rl = md_fl_to_pio_rl(md_fname_ful)\n",
    "        seq_len = pio_rl.shape[1] - 1\n",
    "        ip_seq = pio_rl[:, :-1]\n",
    "        gt_seq = pio_rl[:, 1:]\n",
    "        ip_seq_pad = pd_pio_rl(ip_seq, mx_l=self.mx_seq_ln)\n",
    "        gt_seq_pad = pd_pio_rl(gt_seq,mx_l=self.mx_seq_ln,pd_v=-100)       \n",
    "        ip_seq_pad = ip_seq_pad.transpose()\n",
    "        gt_seq_pad = gt_seq_pad.transpose()\n",
    "        return (torch.FloatTensor(ip_seq_pad),\n",
    "                torch.LongTensor(gt_seq_pad), torch.LongTensor([seq_len]))\n",
    "def pos_proc_seq(btch):\n",
    "    ip_seqs, op_seqs, lens = btch    \n",
    "    ip_seq_splt_btch = ip_seqs.split(split_size=1)\n",
    "    op_seq_splt_btch = op_seqs.split(split_size=1)\n",
    "    btch_splt_lens = lens.split(split_size=1)\n",
    "    tr_data_tups = zip(ip_seq_splt_btch,\n",
    "                               op_seq_splt_btch,\n",
    "                               btch_splt_lens)\n",
    "    ord_tr_data_tups = sorted(tr_data_tups,\n",
    "                                         key=lambda c: int(c[2]),\n",
    "                                         reverse=True)\n",
    "    ip_seq_splt_btch, op_seq_splt_btch, btch_splt_lens = zip(*ord_tr_data_tups)\n",
    "    ord_ip_seq_btch = torch.cat(ip_seq_splt_btch)\n",
    "    ord_op_seq_btch = torch.cat(op_seq_splt_btch)\n",
    "    ord_btch_lens = torch.cat(btch_splt_lens)    \n",
    "    ord_ip_seq_btch = ord_ip_seq_btch[:, -ord_btch_lens[0, 0]:, :]\n",
    "    ord_op_seq_btch = ord_op_seq_btch[:, -ord_btch_lens[0, 0]:, :]    \n",
    "    tps_ip_seq_btch = ord_ip_seq_btch.transpose(0, 1)    \n",
    "    ord_btch_lens_l = list(ord_btch_lens)\n",
    "    ord_btch_lens_l = map(lambda k: int(k), ord_btch_lens_l)    \n",
    "    return tps_ip_seq_btch, ord_op_seq_btch, list(ord_btch_lens_l)"
   ]
  },
  {
   "cell_type": "code",
   "execution_count": 13,
   "metadata": {
    "ExecuteTime": {
     "end_time": "2018-11-27T12:21:07.678124Z",
     "start_time": "2018-11-27T12:20:56.931002Z"
    },
    "scrolled": true
   },
   "outputs": [],
   "source": [
    "training_dataset = NtGenDataset('./mozart/train', mx_seq_ln=None)\n",
    "training_datasetloader = data.DataLoader(training_dataset, batch_size=5,shuffle=True, drop_last=True)"
   ]
  },
  {
   "cell_type": "code",
   "execution_count": 39,
   "metadata": {
    "ExecuteTime": {
     "end_time": "2018-11-27T12:21:08.232332Z",
     "start_time": "2018-11-27T12:21:07.693745Z"
    }
   },
   "outputs": [
    {
     "data": {
      "text/plain": [
       "torch.Size([5, 4812, 88])"
      ]
     },
     "execution_count": 39,
     "metadata": {},
     "output_type": "execute_result"
    }
   ],
   "source": [
    "X_train = next(iter(training_datasetloader))\n",
    "X_train[0].shape"
   ]
  },
  {
   "cell_type": "code",
   "execution_count": 16,
   "metadata": {
    "ExecuteTime": {
     "end_time": "2018-11-27T12:21:11.258476Z",
     "start_time": "2018-11-27T12:21:08.259258Z"
    }
   },
   "outputs": [],
   "source": [
    "validation_dataset = NtGenDataset('./mozart/valid/', mx_seq_ln=None)\n",
    "validation_datasetloader = data.DataLoader(validation_dataset, batch_size=3, shuffle=False, drop_last=False)"
   ]
  },
  {
   "cell_type": "code",
   "execution_count": 17,
   "metadata": {
    "ExecuteTime": {
     "end_time": "2018-11-27T12:21:11.406325Z",
     "start_time": "2018-11-27T12:21:11.278687Z"
    },
    "scrolled": true
   },
   "outputs": [
    {
     "data": {
      "text/plain": [
       "torch.Size([3, 1587, 88])"
      ]
     },
     "execution_count": 17,
     "metadata": {},
     "output_type": "execute_result"
    }
   ],
   "source": [
    "X_validation = next(iter(validation_datasetloader))\n",
    "X_validation[0].shape"
   ]
  },
  {
   "cell_type": "code",
   "execution_count": 46,
   "metadata": {},
   "outputs": [
    {
     "data": {
      "image/png": "[encoded data removed]",
      "text/plain": [
       "<Figure size 720x504 with 1 Axes>"
      ]
     },
     "metadata": {
      "needs_background": "light"
     },
     "output_type": "display_data"
    }
   ],
   "source": [
    "plt.figure(figsize=(10,7))\n",
    "plt.title(\"Matrix representation of a Mozart composition\")\n",
    "plt.imshow(X_validation[0][0][:300].numpy().T);"
   ]
  },
  {
   "cell_type": "markdown",
   "metadata": {},
   "source": [
    "# Music LSTM"
   ]
  },
  {
   "cell_type": "markdown",
   "metadata": {},
   "source": [
    "### model definition"
   ]
  },
  {
   "cell_type": "code",
   "execution_count": 17,
   "metadata": {
    "ExecuteTime": {
     "end_time": "2018-11-27T12:22:33.314323Z",
     "start_time": "2018-11-27T12:22:33.291386Z"
    }
   },
   "outputs": [],
   "source": [
    "class MusicLSTM(nn.Module):    \n",
    "    def __init__(self, ip_sz, hd_sz, n_cls, lyrs=2):        \n",
    "        super(MusicLSTM, self).__init__()        \n",
    "        self.ip_sz = ip_sz\n",
    "        self.hd_sz = hd_sz\n",
    "        self.n_cls = n_cls\n",
    "        self.lyrs = lyrs        \n",
    "        self.nts_enc = nn.Linear(in_features=ip_sz, out_features=hd_sz)        \n",
    "        self.bn_layer = nn.BatchNorm1d(hd_sz)        \n",
    "        self.lstm_layer = nn.LSTM(hd_sz, hd_sz, lyrs)        \n",
    "        self.fc_layer = nn.Linear(hd_sz, n_cls)\n",
    "        \n",
    "    def forward(self, ip_seqs, ip_seqs_len, hd=None):\n",
    "        nts_enc = self.nts_enc(ip_seqs)       \n",
    "        nts_enc_rol = nts_enc.permute(1,2,0).contiguous()\n",
    "        nts_enc_nrm = self.bn_layer(nts_enc_rol)        \n",
    "        nts_enc_nrm_drp = nn.Dropout(0.25)(nts_enc_nrm)\n",
    "        nts_enc_ful = nts_enc_nrm_drp.permute(2,0,1)\n",
    "        \n",
    "        pkd = torch.nn.utils.rnn.pack_padded_sequence(nts_enc_ful, ip_seqs_len)\n",
    "        op, hd = self.lstm_layer(pkd, hd)\n",
    "        \n",
    "        op, op_l = torch.nn.utils.rnn.pad_packed_sequence(op)\n",
    "        \n",
    "        op_nrm = self.bn_layer(op.permute(1,2,0).contiguous())\n",
    "        op_nrm_drp = nn.Dropout(0.1)(op_nrm)\n",
    "        lgts = self.fc_layer(op_nrm_drp.permute(2,0,1))\n",
    "        lgts = lgts.transpose(0, 1).contiguous()\n",
    "        \n",
    "        rev_lgts = (1 - lgts)\n",
    "        \n",
    "        zero_one_lgts = torch.stack((lgts, rev_lgts), dim=3).contiguous()\n",
    "        flt_lgts = zero_one_lgts.view(-1, 2)\n",
    "        return flt_lgts, hd"
   ]
  },
  {
   "cell_type": "markdown",
   "metadata": {},
   "source": [
    "### training and validation"
   ]
  },
  {
   "cell_type": "code",
   "execution_count": 18,
   "metadata": {
    "ExecuteTime": {
     "end_time": "2018-11-26T16:16:18.949227Z",
     "start_time": "2018-11-26T16:16:18.930281Z"
    }
   },
   "outputs": [],
   "source": [
    "def lstm_model_training(lstm_model, lr, ep=10, val_loss_best=float(\"inf\")):\n",
    "    list_of_losses = []\n",
    "    list_of_val_losses =[]\n",
    "    model_params = lstm_model.parameters()\n",
    "    opt = torch.optim.Adam(model_params, lr=lr)\n",
    "    grad_clip = 1.0\n",
    "    for curr_ep in range(ep):\n",
    "        lstm_model.train()\n",
    "        loss_ep = []\n",
    "        for batch in training_datasetloader:\n",
    "            post_proc_b = pos_proc_seq(batch)\n",
    "            ip_seq_b, op_seq_b, seq_l = post_proc_b\n",
    "            op_seq_b_v =  Variable(op_seq_b.contiguous().view(-1).cpu())\n",
    "            ip_seq_b_v = Variable(ip_seq_b.cpu())\n",
    "            opt.zero_grad()\n",
    "            lgts, _ = lstm_model(ip_seq_b_v, seq_l)\n",
    "            loss = loss_func(lgts, op_seq_b_v)\n",
    "            list_of_losses.append(loss.item())\n",
    "            loss_ep.append(loss.item())\n",
    "            loss.backward()\n",
    "            torch.nn.utils.clip_grad_norm_(lstm_model.parameters(), grad_clip)\n",
    "            opt.step()\n",
    "\n",
    "        tr_ep_cur = sum(loss_ep)/len(training_datasetloader)\n",
    "        print(f'ep {curr_ep} , train loss = {tr_ep_cur}')\n",
    "\n",
    "        vl_ep_cur = evaluate_model(lstm_model)\n",
    "        print(f'ep {curr_ep} , val loss = {vl_ep_cur}\\n')\n",
    "\n",
    "        list_of_val_losses.append(vl_ep_cur)\n",
    "\n",
    "        if vl_ep_cur < val_loss_best:\n",
    "            torch.save(lstm_model.state_dict(), 'best_model.pth')\n",
    "            val_loss_best = vl_ep_cur\n",
    "    return val_loss_best, lstm_model"
   ]
  },
  {
   "cell_type": "code",
   "execution_count": 19,
   "metadata": {
    "ExecuteTime": {
     "end_time": "2018-11-27T12:22:58.002722Z",
     "start_time": "2018-11-27T12:22:57.987764Z"
    }
   },
   "outputs": [],
   "source": [
    "def evaluate_model(lstm_model):\n",
    "    lstm_model.eval()\n",
    "    vl_loss_full = 0.0\n",
    "    seq_len = 0.0\n",
    "\n",
    "    for batch in validation_datasetloader:\n",
    "        post_proc_b = pos_proc_seq(batch)\n",
    "        ip_seq_b, op_seq_b, seq_l = post_proc_b\n",
    "        op_seq_b_v =  Variable( op_seq_b.contiguous().view(-1).cpu() )\n",
    "        ip_seq_b_v = Variable( ip_seq_b.cpu() )\n",
    "        lgts, _ = lstm_model(ip_seq_b_v, seq_l)\n",
    "        loss = loss_func(lgts, op_seq_b_v)\n",
    "        vl_loss_full += loss.item()\n",
    "        seq_len += sum(seq_l)\n",
    "\n",
    "    return vl_loss_full/(seq_len*88)"
   ]
  },
  {
   "cell_type": "code",
   "execution_count": 20,
   "metadata": {
    "ExecuteTime": {
     "end_time": "2018-11-26T16:19:05.465667Z",
     "start_time": "2018-11-26T16:16:20.312589Z"
    },
    "scrolled": false
   },
   "outputs": [
    {
     "name": "stdout",
     "output_type": "stream",
     "text": [
      "ep 0 , train loss = 1.2445591886838276\n",
      "ep 0 , val loss = 1.3352128363692468e-06\n",
      "\n",
      "ep 1 , train loss = 2.1156165103117623\n",
      "ep 1 , val loss = 1.6539533744088603e-06\n",
      "\n",
      "ep 2 , train loss = 1.6429476936658223\n",
      "ep 2 , val loss = 6.44313576921296e-07\n",
      "\n",
      "ep 3 , train loss = 1.3036367297172546\n",
      "ep 3 , val loss = 7.910344729101428e-07\n",
      "\n",
      "ep 4 , train loss = 0.6105860968430837\n",
      "ep 4 , val loss = 1.2166870756004527e-06\n",
      "\n",
      "ep 5 , train loss = 0.582861324151357\n",
      "ep 5 , val loss = 5.687958283017817e-07\n",
      "\n",
      "ep 6 , train loss = 0.28131235639254254\n",
      "ep 6 , val loss = 4.83049781240143e-07\n",
      "\n",
      "ep 7 , train loss = 0.1561812162399292\n",
      "ep 7 , val loss = 5.472248898085979e-07\n",
      "\n",
      "ep 8 , train loss = 0.14845856527487436\n",
      "ep 8 , val loss = 4.1753687837465244e-07\n",
      "\n",
      "ep 9 , train loss = 0.1285532539089521\n",
      "ep 9 , val loss = 3.899009367655375e-07\n",
      "\n"
     ]
    }
   ],
   "source": [
    "loss_func = nn.CrossEntropyLoss().cpu()\n",
    "lstm_model = MusicLSTM(ip_sz=88, hd_sz=512, n_cls=88).cpu()\n",
    "val_loss_best, lstm_model = lstm_model_training(lstm_model, lr=0.01, ep=10)"
   ]
  },
  {
   "cell_type": "markdown",
   "metadata": {},
   "source": [
    "# Generate samples"
   ]
  },
  {
   "cell_type": "code",
   "execution_count": 21,
   "metadata": {
    "ExecuteTime": {
     "end_time": "2018-11-26T16:25:11.202962Z",
     "start_time": "2018-11-26T16:25:11.189993Z"
    }
   },
   "outputs": [],
   "source": [
    "def generate_music(lstm_model, ln=100, tmp=1, seq_st=None):\n",
    "    if seq_st is None:\n",
    "        seq_ip_cur = torch.zeros(1, 1, 88)\n",
    "        seq_ip_cur[0, 0, 40] = 1\n",
    "        seq_ip_cur[0, 0, 50] = 0\n",
    "        seq_ip_cur[0, 0, 56] = 0\n",
    "        seq_ip_cur = Variable(seq_ip_cur.cpu())\n",
    "    else:\n",
    "        seq_ip_cur = seq_st\n",
    "        \n",
    "    op_seq = [seq_ip_cur.data.squeeze(1)]\n",
    "    hd = None\n",
    "\n",
    "    for i in range(ln):\n",
    "        op, hd = lstm_model(seq_ip_cur, [1], hd)\n",
    "        probs = nn.functional.softmax(op.div(tmp), dim=1)\n",
    "        seq_ip_cur = torch.multinomial(probs.data, 1).squeeze().unsqueeze(0).unsqueeze(1)\n",
    "        seq_ip_cur = Variable(seq_ip_cur.float())\n",
    "        op_seq.append(seq_ip_cur.data.squeeze(1))\n",
    "\n",
    "    gen_seq = torch.cat(op_seq, dim=0).cpu().numpy()\n",
    "    \n",
    "    return gen_seq"
   ]
  },
  {
   "cell_type": "code",
   "execution_count": 22,
   "metadata": {
    "ExecuteTime": {
     "end_time": "2018-11-26T16:25:36.632928Z",
     "start_time": "2018-11-26T16:25:34.966547Z"
    }
   },
   "outputs": [
    {
     "data": {
      "image/png": "[encoded data removed]",
      "text/plain": [
       "<Figure size 432x288 with 1 Axes>"
      ]
     },
     "metadata": {
      "needs_background": "light"
     },
     "output_type": "display_data"
    }
   ],
   "source": [
    "seq = generate_music(lstm_model, ln=100, tmp=0.8, seq_st=None).transpose()\n",
    "io.imshow(seq)\n",
    "midiwrite('generated_music.mid', seq.transpose(), dtm=0.25)"
   ]
  }
 ],
 "metadata": {
  "kernelspec": {
   "display_name": "Python 3",
   "language": "python",
   "name": "python3"
  },
  "language_info": {
   "codemirror_mode": {
    "name": "ipython",
    "version": 3
   },
   "file_extension": ".py",
   "mimetype": "text/x-python",
   "name": "python",
   "nbconvert_exporter": "python",
   "pygments_lexer": "ipython3",
   "version": "3.7.6"
  },
  "varInspector": {
   "cols": {
    "lenName": 16,
    "lenType": 16,
    "lenVar": 40
   },
   "kernels_config": {
    "python": {
     "delete_cmd_postfix": "",
     "delete_cmd_prefix": "del ",
     "library": "var_list.py",
     "varRefreshCmd": "print(var_dic_list())"
    },
    "r": {
     "delete_cmd_postfix": ") ",
     "delete_cmd_prefix": "rm(",
     "library": "var_list.r",
     "varRefreshCmd": "cat(var_dic_list()) "
    }
   },
   "types_to_exclude": [
    "module",
    "function",
    "builtin_function_or_method",
    "instance",
    "_Feature"
   ],
   "window_display": false
  }
 },
 "nbformat": 4,
 "nbformat_minor": 2
}
