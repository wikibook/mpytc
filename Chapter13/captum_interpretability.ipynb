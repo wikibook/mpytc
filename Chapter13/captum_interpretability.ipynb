{
 "cells": [
  {
   "cell_type": "markdown",
   "metadata": {},
   "source": [
    "## import modules"
   ]
  },
  {
   "cell_type": "code",
   "execution_count": 1,
   "metadata": {},
   "outputs": [],
   "source": [
    "import torch\n",
    "import torch.nn as nn\n",
    "import torch.nn.functional as F\n",
    "import torch.optim as optim\n",
    "from torch.utils.data import DataLoader\n",
    "from torchvision import datasets, transforms\n",
    "\n",
    "import matplotlib.pyplot as plt\n",
    "import numpy as np\n",
    "\n",
    "from captum.attr import IntegratedGradients\n",
    "from captum.attr import Saliency\n",
    "from captum.attr import DeepLift\n",
    "from captum.attr import visualization as viz"
   ]
  },
  {
   "cell_type": "code",
   "execution_count": 2,
   "metadata": {},
   "outputs": [
    {
     "data": {
      "text/plain": [
       "<torch._C.Generator at 0x12b9b9ab0>"
      ]
     },
     "execution_count": 2,
     "metadata": {},
     "output_type": "execute_result"
    }
   ],
   "source": [
    "np.random.seed(123)\n",
    "torch.manual_seed(123)"
   ]
  },
  {
   "cell_type": "markdown",
   "metadata": {},
   "source": [
    "## define model architecture"
   ]
  },
  {
   "cell_type": "code",
   "execution_count": 3,
   "metadata": {},
   "outputs": [],
   "source": [
    "class ConvNet(nn.Module):\n",
    "    def __init__(self):\n",
    "        super(ConvNet, self).__init__()\n",
    "        self.cn1 = nn.Conv2d(1, 16, 3, 1)\n",
    "        self.cn2 = nn.Conv2d(16, 32, 3, 1)\n",
    "        self.dp1 = nn.Dropout2d(0.10)\n",
    "        self.dp2 = nn.Dropout2d(0.25)\n",
    "        self.fc1 = nn.Linear(4608, 64) # 4608 is basically 12 X 12 X 32\n",
    "        self.fc2 = nn.Linear(64, 10)\n",
    " \n",
    "    def forward(self, x):\n",
    "        x = self.cn1(x)\n",
    "        x = F.relu(x)\n",
    "        x = self.cn2(x)\n",
    "        x = F.relu(x)\n",
    "        x = F.max_pool2d(x, 2)\n",
    "        x = self.dp1(x)\n",
    "        x = torch.flatten(x, 1)\n",
    "        x = self.fc1(x)\n",
    "        x = F.relu(x)\n",
    "        x = self.dp2(x)\n",
    "        x = self.fc2(x)\n",
    "        op = F.log_softmax(x, dim=1)\n",
    "        return op"
   ]
  },
  {
   "cell_type": "markdown",
   "metadata": {},
   "source": [
    "## define training and inference routines"
   ]
  },
  {
   "cell_type": "code",
   "execution_count": 4,
   "metadata": {},
   "outputs": [],
   "source": [
    "def train(model, device, train_dataloader, optim, epoch):\n",
    "    model.train()\n",
    "    for b_i, (X, y) in enumerate(train_dataloader):\n",
    "        X, y = X.to(device), y.to(device)\n",
    "        optim.zero_grad()\n",
    "        pred_prob = model(X)\n",
    "        loss = F.nll_loss(pred_prob, y) # nll is the negative likelihood loss\n",
    "        loss.backward()\n",
    "        optim.step()\n",
    "        if b_i % 10 == 0:\n",
    "            print('epoch: {} [{}/{} ({:.0f}%)]\\t training loss: {:.6f}'.format(\n",
    "                epoch, b_i * len(X), len(train_dataloader.dataset),\n",
    "                100. * b_i / len(train_dataloader), loss.item()))"
   ]
  },
  {
   "cell_type": "code",
   "execution_count": 5,
   "metadata": {},
   "outputs": [],
   "source": [
    "def test(model, device, test_dataloader):\n",
    "    model.eval()\n",
    "    loss = 0\n",
    "    success = 0\n",
    "    with torch.no_grad():\n",
    "        for X, y in test_dataloader:\n",
    "            X, y = X.to(device), y.to(device)\n",
    "            pred_prob = model(X)\n",
    "            loss += F.nll_loss(pred_prob, y, reduction='sum').item()  # loss summed across the batch\n",
    "            pred = pred_prob.argmax(dim=1, keepdim=True)  # us argmax to get the most likely prediction\n",
    "            success += pred.eq(y.view_as(pred)).sum().item()\n",
    "\n",
    "    loss /= len(test_dataloader.dataset)\n",
    "\n",
    "    print('\\nTest dataset: Overall Loss: {:.4f}, Overall Accuracy: {}/{} ({:.0f}%)\\n'.format(\n",
    "        loss, success, len(test_dataloader.dataset),\n",
    "        100. * success / len(test_dataloader.dataset)))"
   ]
  },
  {
   "cell_type": "markdown",
   "metadata": {},
   "source": [
    "## create data loaders"
   ]
  },
  {
   "cell_type": "code",
   "execution_count": 6,
   "metadata": {},
   "outputs": [],
   "source": [
    "# The mean and standard deviation values are calculated as the mean of all pixel values of all images in the training dataset\n",
    "train_dataloader = torch.utils.data.DataLoader(\n",
    "    datasets.MNIST('../data', train=True, download=True,\n",
    "                   transform=transforms.Compose([\n",
    "                       transforms.ToTensor(),\n",
    "                       transforms.Normalize((0.1302,), (0.3069,))])), # train_X.mean()/256. and train_X.std()/256.\n",
    "    batch_size=32, shuffle=True)\n",
    "\n",
    "test_dataloader = torch.utils.data.DataLoader(\n",
    "    datasets.MNIST('../data', train=False, \n",
    "                   transform=transforms.Compose([\n",
    "                       transforms.ToTensor(),\n",
    "                       transforms.Normalize((0.1302,), (0.3069,)) \n",
    "                   ])),\n",
    "    batch_size=500, shuffle=True)"
   ]
  },
  {
   "cell_type": "markdown",
   "metadata": {},
   "source": [
    "## define optimizer and run training epochs"
   ]
  },
  {
   "cell_type": "code",
   "execution_count": 7,
   "metadata": {},
   "outputs": [],
   "source": [
    "torch.manual_seed(0)\n",
    "device = torch.device(\"cpu\")\n",
    "\n",
    "model = ConvNet()\n",
    "optimizer = optim.Adadelta(model.parameters(), lr=0.5)"
   ]
  },
  {
   "cell_type": "markdown",
   "metadata": {},
   "source": [
    "## model training"
   ]
  },
  {
   "cell_type": "code",
   "execution_count": 8,
   "metadata": {
    "scrolled": true
   },
   "outputs": [
    {
     "name": "stdout",
     "output_type": "stream",
     "text": [
      "epoch: 1 [0/60000 (0%)]\t training loss: 2.333043\n",
      "epoch: 1 [320/60000 (1%)]\t training loss: 1.943062\n",
      "epoch: 1 [640/60000 (1%)]\t training loss: 1.304336\n",
      "epoch: 1 [960/60000 (2%)]\t training loss: 1.238040\n",
      "epoch: 1 [1280/60000 (2%)]\t training loss: 0.958737\n",
      "epoch: 1 [1600/60000 (3%)]\t training loss: 0.493184\n",
      "epoch: 1 [1920/60000 (3%)]\t training loss: 0.643627\n",
      "epoch: 1 [2240/60000 (4%)]\t training loss: 0.265545\n",
      "epoch: 1 [2560/60000 (4%)]\t training loss: 0.560548\n",
      "epoch: 1 [2880/60000 (5%)]\t training loss: 0.261553\n",
      "epoch: 1 [3200/60000 (5%)]\t training loss: 0.306239\n",
      "epoch: 1 [3520/60000 (6%)]\t training loss: 0.300254\n",
      "epoch: 1 [3840/60000 (6%)]\t training loss: 0.261871\n",
      "epoch: 1 [4160/60000 (7%)]\t training loss: 0.253512\n",
      "epoch: 1 [4480/60000 (7%)]\t training loss: 0.103370\n",
      "epoch: 1 [4800/60000 (8%)]\t training loss: 0.244615\n",
      "epoch: 1 [5120/60000 (9%)]\t training loss: 0.246581\n",
      "epoch: 1 [5440/60000 (9%)]\t training loss: 0.426752\n",
      "epoch: 1 [5760/60000 (10%)]\t training loss: 0.164684\n",
      "epoch: 1 [6080/60000 (10%)]\t training loss: 0.063364\n",
      "epoch: 1 [6400/60000 (11%)]\t training loss: 0.220145\n",
      "epoch: 1 [6720/60000 (11%)]\t training loss: 0.410414\n",
      "epoch: 1 [7040/60000 (12%)]\t training loss: 0.323727\n",
      "epoch: 1 [7360/60000 (12%)]\t training loss: 0.294908\n",
      "epoch: 1 [7680/60000 (13%)]\t training loss: 0.091494\n",
      "epoch: 1 [8000/60000 (13%)]\t training loss: 0.188713\n",
      "epoch: 1 [8320/60000 (14%)]\t training loss: 0.144609\n",
      "epoch: 1 [8640/60000 (14%)]\t training loss: 0.325974\n",
      "epoch: 1 [8960/60000 (15%)]\t training loss: 0.031163\n",
      "epoch: 1 [9280/60000 (15%)]\t training loss: 0.036093\n",
      "epoch: 1 [9600/60000 (16%)]\t training loss: 0.214139\n",
      "epoch: 1 [9920/60000 (17%)]\t training loss: 0.156931\n",
      "epoch: 1 [10240/60000 (17%)]\t training loss: 0.096676\n",
      "epoch: 1 [10560/60000 (18%)]\t training loss: 0.183215\n",
      "epoch: 1 [10880/60000 (18%)]\t training loss: 0.033010\n",
      "epoch: 1 [11200/60000 (19%)]\t training loss: 0.106560\n",
      "epoch: 1 [11520/60000 (19%)]\t training loss: 0.167177\n",
      "epoch: 1 [11840/60000 (20%)]\t training loss: 0.116418\n",
      "epoch: 1 [12160/60000 (20%)]\t training loss: 0.347938\n",
      "epoch: 1 [12480/60000 (21%)]\t training loss: 0.072275\n",
      "epoch: 1 [12800/60000 (21%)]\t training loss: 0.069344\n",
      "epoch: 1 [13120/60000 (22%)]\t training loss: 0.088382\n",
      "epoch: 1 [13440/60000 (22%)]\t training loss: 0.096705\n",
      "epoch: 1 [13760/60000 (23%)]\t training loss: 0.128923\n",
      "epoch: 1 [14080/60000 (23%)]\t training loss: 0.127995\n",
      "epoch: 1 [14400/60000 (24%)]\t training loss: 0.125990\n",
      "epoch: 1 [14720/60000 (25%)]\t training loss: 0.148126\n",
      "epoch: 1 [15040/60000 (25%)]\t training loss: 0.409140\n",
      "epoch: 1 [15360/60000 (26%)]\t training loss: 0.133046\n",
      "epoch: 1 [15680/60000 (26%)]\t training loss: 0.120051\n",
      "epoch: 1 [16000/60000 (27%)]\t training loss: 0.219374\n",
      "epoch: 1 [16320/60000 (27%)]\t training loss: 0.152537\n",
      "epoch: 1 [16640/60000 (28%)]\t training loss: 0.350288\n",
      "epoch: 1 [16960/60000 (28%)]\t training loss: 0.273461\n",
      "epoch: 1 [17280/60000 (29%)]\t training loss: 0.261697\n",
      "epoch: 1 [17600/60000 (29%)]\t training loss: 0.085179\n",
      "epoch: 1 [17920/60000 (30%)]\t training loss: 0.033157\n",
      "epoch: 1 [18240/60000 (30%)]\t training loss: 0.081473\n",
      "epoch: 1 [18560/60000 (31%)]\t training loss: 0.004736\n",
      "epoch: 1 [18880/60000 (31%)]\t training loss: 0.185923\n",
      "epoch: 1 [19200/60000 (32%)]\t training loss: 0.293117\n",
      "epoch: 1 [19520/60000 (33%)]\t training loss: 0.064243\n",
      "epoch: 1 [19840/60000 (33%)]\t training loss: 0.044118\n",
      "epoch: 1 [20160/60000 (34%)]\t training loss: 0.028630\n",
      "epoch: 1 [20480/60000 (34%)]\t training loss: 0.117261\n",
      "epoch: 1 [20800/60000 (35%)]\t training loss: 0.266663\n",
      "epoch: 1 [21120/60000 (35%)]\t training loss: 0.032758\n",
      "epoch: 1 [21440/60000 (36%)]\t training loss: 0.084564\n",
      "epoch: 1 [21760/60000 (36%)]\t training loss: 0.135888\n",
      "epoch: 1 [22080/60000 (37%)]\t training loss: 0.040037\n",
      "epoch: 1 [22400/60000 (37%)]\t training loss: 0.019712\n",
      "epoch: 1 [22720/60000 (38%)]\t training loss: 0.150382\n",
      "epoch: 1 [23040/60000 (38%)]\t training loss: 0.067946\n",
      "epoch: 1 [23360/60000 (39%)]\t training loss: 0.221487\n",
      "epoch: 1 [23680/60000 (39%)]\t training loss: 0.148346\n",
      "epoch: 1 [24000/60000 (40%)]\t training loss: 0.125404\n",
      "epoch: 1 [24320/60000 (41%)]\t training loss: 0.116576\n",
      "epoch: 1 [24640/60000 (41%)]\t training loss: 0.081610\n",
      "epoch: 1 [24960/60000 (42%)]\t training loss: 0.040039\n",
      "epoch: 1 [25280/60000 (42%)]\t training loss: 0.111751\n",
      "epoch: 1 [25600/60000 (43%)]\t training loss: 0.027178\n",
      "epoch: 1 [25920/60000 (43%)]\t training loss: 0.039238\n",
      "epoch: 1 [26240/60000 (44%)]\t training loss: 0.046624\n",
      "epoch: 1 [26560/60000 (44%)]\t training loss: 0.036259\n",
      "epoch: 1 [26880/60000 (45%)]\t training loss: 0.042893\n",
      "epoch: 1 [27200/60000 (45%)]\t training loss: 0.021309\n",
      "epoch: 1 [27520/60000 (46%)]\t training loss: 0.078010\n",
      "epoch: 1 [27840/60000 (46%)]\t training loss: 0.067319\n",
      "epoch: 1 [28160/60000 (47%)]\t training loss: 0.019019\n",
      "epoch: 1 [28480/60000 (47%)]\t training loss: 0.109955\n",
      "epoch: 1 [28800/60000 (48%)]\t training loss: 0.075527\n",
      "epoch: 1 [29120/60000 (49%)]\t training loss: 0.050420\n",
      "epoch: 1 [29440/60000 (49%)]\t training loss: 0.058509\n",
      "epoch: 1 [29760/60000 (50%)]\t training loss: 0.042245\n",
      "epoch: 1 [30080/60000 (50%)]\t training loss: 0.067011\n",
      "epoch: 1 [30400/60000 (51%)]\t training loss: 0.025555\n",
      "epoch: 1 [30720/60000 (51%)]\t training loss: 0.170165\n",
      "epoch: 1 [31040/60000 (52%)]\t training loss: 0.015962\n",
      "epoch: 1 [31360/60000 (52%)]\t training loss: 0.320396\n",
      "epoch: 1 [31680/60000 (53%)]\t training loss: 0.014895\n",
      "epoch: 1 [32000/60000 (53%)]\t training loss: 0.273716\n",
      "epoch: 1 [32320/60000 (54%)]\t training loss: 0.201027\n",
      "epoch: 1 [32640/60000 (54%)]\t training loss: 0.324443\n",
      "epoch: 1 [32960/60000 (55%)]\t training loss: 0.125436\n",
      "epoch: 1 [33280/60000 (55%)]\t training loss: 0.077653\n",
      "epoch: 1 [33600/60000 (56%)]\t training loss: 0.022727\n",
      "epoch: 1 [33920/60000 (57%)]\t training loss: 0.153698\n",
      "epoch: 1 [34240/60000 (57%)]\t training loss: 0.192000\n",
      "epoch: 1 [34560/60000 (58%)]\t training loss: 0.106195\n",
      "epoch: 1 [34880/60000 (58%)]\t training loss: 0.015246\n",
      "epoch: 1 [35200/60000 (59%)]\t training loss: 0.056208\n",
      "epoch: 1 [35520/60000 (59%)]\t training loss: 0.023621\n",
      "epoch: 1 [35840/60000 (60%)]\t training loss: 0.072618\n",
      "epoch: 1 [36160/60000 (60%)]\t training loss: 0.049412\n",
      "epoch: 1 [36480/60000 (61%)]\t training loss: 0.078804\n",
      "epoch: 1 [36800/60000 (61%)]\t training loss: 0.019641\n",
      "epoch: 1 [37120/60000 (62%)]\t training loss: 0.073145\n",
      "epoch: 1 [37440/60000 (62%)]\t training loss: 0.084906\n",
      "epoch: 1 [37760/60000 (63%)]\t training loss: 0.165430\n",
      "epoch: 1 [38080/60000 (63%)]\t training loss: 0.138081\n",
      "epoch: 1 [38400/60000 (64%)]\t training loss: 0.255426\n",
      "epoch: 1 [38720/60000 (65%)]\t training loss: 0.105837\n",
      "epoch: 1 [39040/60000 (65%)]\t training loss: 0.195803\n",
      "epoch: 1 [39360/60000 (66%)]\t training loss: 0.108841\n",
      "epoch: 1 [39680/60000 (66%)]\t training loss: 0.005558\n",
      "epoch: 1 [40000/60000 (67%)]\t training loss: 0.065162\n",
      "epoch: 1 [40320/60000 (67%)]\t training loss: 0.048789\n",
      "epoch: 1 [40640/60000 (68%)]\t training loss: 0.070413\n",
      "epoch: 1 [40960/60000 (68%)]\t training loss: 0.078550\n",
      "epoch: 1 [41280/60000 (69%)]\t training loss: 0.015537\n",
      "epoch: 1 [41600/60000 (69%)]\t training loss: 0.130916\n",
      "epoch: 1 [41920/60000 (70%)]\t training loss: 0.075333\n",
      "epoch: 1 [42240/60000 (70%)]\t training loss: 0.092604\n",
      "epoch: 1 [42560/60000 (71%)]\t training loss: 0.027642\n",
      "epoch: 1 [42880/60000 (71%)]\t training loss: 0.071713\n",
      "epoch: 1 [43200/60000 (72%)]\t training loss: 0.148932\n",
      "epoch: 1 [43520/60000 (73%)]\t training loss: 0.044493\n",
      "epoch: 1 [43840/60000 (73%)]\t training loss: 0.094794\n",
      "epoch: 1 [44160/60000 (74%)]\t training loss: 0.040495\n",
      "epoch: 1 [44480/60000 (74%)]\t training loss: 0.023940\n",
      "epoch: 1 [44800/60000 (75%)]\t training loss: 0.014863\n",
      "epoch: 1 [45120/60000 (75%)]\t training loss: 0.080790\n",
      "epoch: 1 [45440/60000 (76%)]\t training loss: 0.016429\n",
      "epoch: 1 [45760/60000 (76%)]\t training loss: 0.042312\n",
      "epoch: 1 [46080/60000 (77%)]\t training loss: 0.122510\n",
      "epoch: 1 [46400/60000 (77%)]\t training loss: 0.018108\n",
      "epoch: 1 [46720/60000 (78%)]\t training loss: 0.042726\n",
      "epoch: 1 [47040/60000 (78%)]\t training loss: 0.033287\n",
      "epoch: 1 [47360/60000 (79%)]\t training loss: 0.004960\n",
      "epoch: 1 [47680/60000 (79%)]\t training loss: 0.159315\n",
      "epoch: 1 [48000/60000 (80%)]\t training loss: 0.163358\n",
      "epoch: 1 [48320/60000 (81%)]\t training loss: 0.133813\n",
      "epoch: 1 [48640/60000 (81%)]\t training loss: 0.067080\n"
     ]
    },
    {
     "name": "stdout",
     "output_type": "stream",
     "text": [
      "epoch: 1 [48960/60000 (82%)]\t training loss: 0.189037\n",
      "epoch: 1 [49280/60000 (82%)]\t training loss: 0.027550\n",
      "epoch: 1 [49600/60000 (83%)]\t training loss: 0.030760\n",
      "epoch: 1 [49920/60000 (83%)]\t training loss: 0.047113\n",
      "epoch: 1 [50240/60000 (84%)]\t training loss: 0.201450\n",
      "epoch: 1 [50560/60000 (84%)]\t training loss: 0.163309\n",
      "epoch: 1 [50880/60000 (85%)]\t training loss: 0.230963\n",
      "epoch: 1 [51200/60000 (85%)]\t training loss: 0.208547\n",
      "epoch: 1 [51520/60000 (86%)]\t training loss: 0.193209\n",
      "epoch: 1 [51840/60000 (86%)]\t training loss: 0.052333\n",
      "epoch: 1 [52160/60000 (87%)]\t training loss: 0.071918\n",
      "epoch: 1 [52480/60000 (87%)]\t training loss: 0.104872\n",
      "epoch: 1 [52800/60000 (88%)]\t training loss: 0.100245\n",
      "epoch: 1 [53120/60000 (89%)]\t training loss: 0.116145\n",
      "epoch: 1 [53440/60000 (89%)]\t training loss: 0.052742\n",
      "epoch: 1 [53760/60000 (90%)]\t training loss: 0.207156\n",
      "epoch: 1 [54080/60000 (90%)]\t training loss: 0.055222\n",
      "epoch: 1 [54400/60000 (91%)]\t training loss: 0.100362\n",
      "epoch: 1 [54720/60000 (91%)]\t training loss: 0.146641\n",
      "epoch: 1 [55040/60000 (92%)]\t training loss: 0.297926\n",
      "epoch: 1 [55360/60000 (92%)]\t training loss: 0.023830\n",
      "epoch: 1 [55680/60000 (93%)]\t training loss: 0.019826\n",
      "epoch: 1 [56000/60000 (93%)]\t training loss: 0.210100\n",
      "epoch: 1 [56320/60000 (94%)]\t training loss: 0.008069\n",
      "epoch: 1 [56640/60000 (94%)]\t training loss: 0.099603\n",
      "epoch: 1 [56960/60000 (95%)]\t training loss: 0.028852\n",
      "epoch: 1 [57280/60000 (95%)]\t training loss: 0.015403\n",
      "epoch: 1 [57600/60000 (96%)]\t training loss: 0.209963\n",
      "epoch: 1 [57920/60000 (97%)]\t training loss: 0.084345\n",
      "epoch: 1 [58240/60000 (97%)]\t training loss: 0.005287\n",
      "epoch: 1 [58560/60000 (98%)]\t training loss: 0.226485\n",
      "epoch: 1 [58880/60000 (98%)]\t training loss: 0.167074\n",
      "epoch: 1 [59200/60000 (99%)]\t training loss: 0.045646\n",
      "epoch: 1 [59520/60000 (99%)]\t training loss: 0.013449\n",
      "epoch: 1 [59840/60000 (100%)]\t training loss: 0.024415\n",
      "\n",
      "Test dataset: Overall Loss: 0.0522, Overall Accuracy: 9825/10000 (98%)\n",
      "\n"
     ]
    }
   ],
   "source": [
    "for epoch in range(1, 2):\n",
    "    train(model, device, train_dataloader, optimizer, epoch)\n",
    "    test(model, device, test_dataloader)"
   ]
  },
  {
   "cell_type": "markdown",
   "metadata": {},
   "source": [
    "## run inference on trained model"
   ]
  },
  {
   "cell_type": "code",
   "execution_count": 9,
   "metadata": {
    "scrolled": false
   },
   "outputs": [
    {
     "data": {
      "image/png": "[encoded data removed]",
      "text/plain": [
       "<Figure size 432x288 with 1 Axes>"
      ]
     },
     "metadata": {
      "needs_background": "light"
     },
     "output_type": "display_data"
    }
   ],
   "source": [
    "test_samples = enumerate(test_dataloader)\n",
    "b_i, (sample_data, sample_targets) = next(test_samples)\n",
    "\n",
    "plt.imshow(sample_data[0][0], cmap='gray', interpolation='none')\n",
    "plt.show()"
   ]
  },
  {
   "cell_type": "code",
   "execution_count": 10,
   "metadata": {},
   "outputs": [
    {
     "name": "stdout",
     "output_type": "stream",
     "text": [
      "Model prediction is : 0\n",
      "Ground truth is : 0\n"
     ]
    }
   ],
   "source": [
    "print(f\"Model prediction is : {model(sample_data).data.max(1)[1][0]}\")\n",
    "print(f\"Ground truth is : {sample_targets[0]}\")"
   ]
  },
  {
   "cell_type": "markdown",
   "metadata": {},
   "source": [
    "## captum tools"
   ]
  },
  {
   "cell_type": "code",
   "execution_count": 11,
   "metadata": {},
   "outputs": [],
   "source": [
    "captum_input = sample_data[0].unsqueeze(0)\n",
    "captum_input.requires_grad = True"
   ]
  },
  {
   "cell_type": "code",
   "execution_count": null,
   "metadata": {},
   "outputs": [],
   "source": []
  },
  {
   "cell_type": "code",
   "execution_count": 12,
   "metadata": {},
   "outputs": [
    {
     "name": "stderr",
     "output_type": "stream",
     "text": [
      "Clipping input data to the valid range for imshow with RGB data ([0..1] for floats or [0..255] for integers).\n"
     ]
    },
    {
     "data": {
      "image/png": "[encoded data removed]",
      "text/plain": [
       "<Figure size 432x432 with 1 Axes>"
      ]
     },
     "metadata": {
      "needs_background": "light"
     },
     "output_type": "display_data"
    }
   ],
   "source": [
    "orig_image = np.tile(np.transpose((sample_data[0].cpu().detach().numpy() / 2) + 0.5, (1, 2, 0)), (1,1,3))\n",
    "# tmp = np.transpose((sample_data[0].cpu().detach().numpy() / 2) + 0.5, (1, 2, 0))\n",
    "# orig_image = np.concatenate([tmp, np.zeros(tmp.shape), np.zeros(tmp.shape)], axis=2)\n",
    "_ = viz.visualize_image_attr(None, orig_image, cmap='gray', method=\"original_image\", title=\"Original Image\")"
   ]
  },
  {
   "cell_type": "code",
   "execution_count": 17,
   "metadata": {},
   "outputs": [
    {
     "data": {
      "image/png": "[encoded data removed]",
      "text/plain": [
       "<Figure size 432x432 with 2 Axes>"
      ]
     },
     "metadata": {
      "needs_background": "light"
     },
     "output_type": "display_data"
    }
   ],
   "source": [
    "saliency = Saliency(model)\n",
    "gradients = saliency.attribute(captum_input, target=sample_targets[0].item())\n",
    "gradients = np.reshape(gradients.squeeze().cpu().detach().numpy(), (28, 28, 1))\n",
    "_ = viz.visualize_image_attr(gradients, orig_image, method=\"blended_heat_map\", sign=\"absolute_value\",\n",
    "                          show_colorbar=True, title=\"Overlayed Gradients\")"
   ]
  },
  {
   "cell_type": "code",
   "execution_count": 33,
   "metadata": {},
   "outputs": [
    {
     "data": {
      "image/png": "[encoded data removed]",
      "text/plain": [
       "<Figure size 432x288 with 1 Axes>"
      ]
     },
     "metadata": {
      "needs_background": "light"
     },
     "output_type": "display_data"
    }
   ],
   "source": [
    "plt.imshow(np.tile(gradients/(np.max(gradients)), (1,1,3)));"
   ]
  },
  {
   "cell_type": "code",
   "execution_count": 14,
   "metadata": {},
   "outputs": [
    {
     "data": {
      "image/png": "[encoded data removed]",
      "text/plain": [
       "<Figure size 432x432 with 2 Axes>"
      ]
     },
     "metadata": {
      "needs_background": "light"
     },
     "output_type": "display_data"
    }
   ],
   "source": [
    "integ_grads = IntegratedGradients(model)\n",
    "attributed_ig, delta = integ_grads.attribute(captum_input, target=sample_targets[0].item(), baselines=captum_input * 0, \n",
    "                              return_convergence_delta=True)\n",
    "attributed_ig = np.reshape(attributed_ig.squeeze().cpu().detach().numpy(), (28, 28, 1))\n",
    "_ = viz.visualize_image_attr(attributed_ig, orig_image, method=\"blended_heat_map\",sign=\"all\", show_colorbar=True, \n",
    "                             title=\"Overlayed Integrated Gradients\")"
   ]
  },
  {
   "cell_type": "code",
   "execution_count": 15,
   "metadata": {},
   "outputs": [
    {
     "name": "stderr",
     "output_type": "stream",
     "text": [
      "/Users/ashish.jha/opt/anaconda3/lib/python3.7/site-packages/captum/attr/_core/deep_lift.py:301: UserWarning: Setting forward, backward hooks and attributes on non-linear\n",
      "               activations. The hooks and attributes will be removed\n",
      "            after the attribution is finished\n",
      "  after the attribution is finished\"\"\"\n"
     ]
    },
    {
     "data": {
      "image/png": "[encoded data removed]",
      "text/plain": [
       "<Figure size 432x432 with 2 Axes>"
      ]
     },
     "metadata": {
      "needs_background": "light"
     },
     "output_type": "display_data"
    }
   ],
   "source": [
    "deep_lift = DeepLift(model)\n",
    "attributed_dl = deep_lift.attribute(captum_input, target=sample_targets[0].item(), baselines=captum_input * 0, \n",
    "                              return_convergence_delta=False)\n",
    "attributed_dl = np.reshape(attributed_dl.squeeze(0).cpu().detach().numpy(), (28, 28, 1))\n",
    "_ = viz.visualize_image_attr(attributed_dl, orig_image, method=\"blended_heat_map\",sign=\"all\",show_colorbar=True, \n",
    "                          title=\"Overlayed DeepLift\")"
   ]
  },
  {
   "cell_type": "code",
   "execution_count": null,
   "metadata": {},
   "outputs": [],
   "source": []
  }
 ],
 "metadata": {
  "kernelspec": {
   "display_name": "Python 3",
   "language": "python",
   "name": "python3"
  },
  "language_info": {
   "codemirror_mode": {
    "name": "ipython",
    "version": 3
   },
   "file_extension": ".py",
   "mimetype": "text/x-python",
   "name": "python",
   "nbconvert_exporter": "python",
   "pygments_lexer": "ipython3",
   "version": "3.7.6"
  }
 },
 "nbformat": 4,
 "nbformat_minor": 4
}
