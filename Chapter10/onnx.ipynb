{
 "cells": [
  {
   "cell_type": "code",
   "execution_count": 1,
   "metadata": {},
   "outputs": [],
   "source": [
    "import torch\n",
    "import torch.nn as nn\n",
    "import torch.nn.functional as F\n",
    "import torch.optim as optim\n",
    "from torch.utils.data import DataLoader\n",
    "from torchvision import datasets, transforms\n",
    "\n",
    "import numpy as np\n",
    "from PIL import Image\n",
    "\n",
    "import tensorflow as tf"
   ]
  },
  {
   "cell_type": "code",
   "execution_count": 2,
   "metadata": {},
   "outputs": [],
   "source": [
    "class ConvNet(nn.Module):\n",
    "    def __init__(self):\n",
    "        super(ConvNet, self).__init__()\n",
    "        self.cn1 = nn.Conv2d(1, 16, 3, 1)\n",
    "        self.cn2 = nn.Conv2d(16, 32, 3, 1)\n",
    "        self.dp1 = nn.Dropout2d(0.10)\n",
    "        self.dp2 = nn.Dropout2d(0.25)\n",
    "        self.fc1 = nn.Linear(4608, 64) # 4608 is basically 12 X 12 X 32\n",
    "        self.fc2 = nn.Linear(64, 10)\n",
    " \n",
    "    def forward(self, x):\n",
    "        x = self.cn1(x)\n",
    "        x = F.relu(x)\n",
    "        x = self.cn2(x)\n",
    "        x = F.relu(x)\n",
    "        x = F.max_pool2d(x, 2)\n",
    "        x = self.dp1(x)\n",
    "        x = torch.flatten(x, 1)\n",
    "        x = self.fc1(x)\n",
    "        x = F.relu(x)\n",
    "        x = self.dp2(x)\n",
    "        x = self.fc2(x)\n",
    "        op = F.log_softmax(x, dim=1)\n",
    "        return op\n",
    "    \n",
    "model = ConvNet()"
   ]
  },
  {
   "cell_type": "code",
   "execution_count": 3,
   "metadata": {},
   "outputs": [
    {
     "data": {
      "text/plain": [
       "<All keys matched successfully>"
      ]
     },
     "execution_count": 3,
     "metadata": {},
     "output_type": "execute_result"
    }
   ],
   "source": [
    "PATH_TO_MODEL = \"./convnet.pth\"\n",
    "model.load_state_dict(torch.load(PATH_TO_MODEL, map_location=\"cpu\"))"
   ]
  },
  {
   "cell_type": "code",
   "execution_count": 6,
   "metadata": {},
   "outputs": [],
   "source": [
    "image = Image.open(\"./digit_image.jpg\")"
   ]
  },
  {
   "cell_type": "code",
   "execution_count": 7,
   "metadata": {},
   "outputs": [],
   "source": [
    "def image_to_tensor(image):\n",
    "    gray_image = transforms.functional.to_grayscale(image)\n",
    "    resized_image = transforms.functional.resize(gray_image, (28, 28))\n",
    "    input_image_tensor = transforms.functional.to_tensor(resized_image)\n",
    "    input_image_tensor_norm = transforms.functional.normalize(input_image_tensor, (0.1302,), (0.3069,))\n",
    "    return input_image_tensor_norm"
   ]
  },
  {
   "cell_type": "code",
   "execution_count": 8,
   "metadata": {},
   "outputs": [],
   "source": [
    "input_tensor = image_to_tensor(image)"
   ]
  },
  {
   "cell_type": "code",
   "execution_count": 4,
   "metadata": {},
   "outputs": [],
   "source": [
    "model.eval()\n",
    "for p in model.parameters():\n",
    "    p.requires_grad_(False)"
   ]
  },
  {
   "cell_type": "code",
   "execution_count": 5,
   "metadata": {},
   "outputs": [],
   "source": [
    "demo_input = torch.ones(1, 1, 28, 28)\n",
    "torch.onnx.export(model, demo_input, \"convnet.onnx\")"
   ]
  },
  {
   "cell_type": "code",
   "execution_count": 9,
   "metadata": {
    "collapsed": true
   },
   "outputs": [
    {
     "name": "stdout",
     "output_type": "stream",
     "text": [
      "WARNING:tensorflow:From /Users/ashish.jha/opt/anaconda3/lib/python3.7/site-packages/onnx_tf/handlers/backend/ceil.py:10: The name tf.ceil is deprecated. Please use tf.math.ceil instead.\n",
      "\n",
      "WARNING:tensorflow:From /Users/ashish.jha/opt/anaconda3/lib/python3.7/site-packages/onnx_tf/handlers/backend/depth_to_space.py:12: The name tf.depth_to_space is deprecated. Please use tf.compat.v1.depth_to_space instead.\n",
      "\n",
      "WARNING:tensorflow:From /Users/ashish.jha/opt/anaconda3/lib/python3.7/site-packages/onnx_tf/handlers/backend/erf.py:9: The name tf.erf is deprecated. Please use tf.math.erf instead.\n",
      "\n",
      "WARNING:tensorflow:\n",
      "The TensorFlow contrib module will not be included in TensorFlow 2.0.\n",
      "For more information, please see:\n",
      "  * https://github.com/tensorflow/community/blob/master/rfcs/20180907-contrib-sunset.md\n",
      "  * https://github.com/tensorflow/addons\n",
      "  * https://github.com/tensorflow/io (for I/O related ops)\n",
      "If you depend on functionality not listed there, please file an issue.\n",
      "\n"
     ]
    },
    {
     "name": "stderr",
     "output_type": "stream",
     "text": [
      "/Users/ashish.jha/opt/anaconda3/lib/python3.7/site-packages/onnx_tf/common/__init__.py:89: UserWarning: onnx_tf.common.get_outputs_names is deprecated. It will be removed in future release. Use TensorflowGraph.get_outputs_names instead.\n",
      "  warnings.warn(message)\n",
      "/Users/ashish.jha/opt/anaconda3/lib/python3.7/site-packages/dask/dataframe/utils.py:14: FutureWarning: pandas.util.testing is deprecated. Use the functions in the public API at pandas.testing instead.\n",
      "  import pandas.util.testing as tm\n"
     ]
    },
    {
     "name": "stdout",
     "output_type": "stream",
     "text": [
      "WARNING:tensorflow:From /Users/ashish.jha/opt/anaconda3/lib/python3.7/site-packages/onnx_tf/handlers/backend/is_nan.py:9: The name tf.is_nan is deprecated. Please use tf.math.is_nan instead.\n",
      "\n",
      "WARNING:tensorflow:From /Users/ashish.jha/opt/anaconda3/lib/python3.7/site-packages/onnx_tf/handlers/backend/log.py:10: The name tf.log is deprecated. Please use tf.math.log instead.\n",
      "\n",
      "WARNING:tensorflow:From /Users/ashish.jha/opt/anaconda3/lib/python3.7/site-packages/onnx_tf/handlers/backend/random_normal.py:9: The name tf.random_normal is deprecated. Please use tf.random.normal instead.\n",
      "\n",
      "WARNING:tensorflow:From /Users/ashish.jha/opt/anaconda3/lib/python3.7/site-packages/onnx_tf/handlers/backend/random_uniform.py:9: The name tf.random_uniform is deprecated. Please use tf.random.uniform instead.\n",
      "\n",
      "WARNING:tensorflow:From /Users/ashish.jha/opt/anaconda3/lib/python3.7/site-packages/onnx_tf/handlers/backend/reciprocal.py:10: The name tf.reciprocal is deprecated. Please use tf.math.reciprocal instead.\n",
      "\n",
      "WARNING:tensorflow:From /Users/ashish.jha/opt/anaconda3/lib/python3.7/site-packages/onnx_tf/handlers/backend/space_to_depth.py:12: The name tf.space_to_depth is deprecated. Please use tf.compat.v1.space_to_depth instead.\n",
      "\n",
      "WARNING:tensorflow:From /Users/ashish.jha/opt/anaconda3/lib/python3.7/site-packages/onnx_tf/handlers/backend/upsample.py:15: The name tf.image.resize_images is deprecated. Please use tf.image.resize instead.\n",
      "\n",
      "WARNING:tensorflow:From /Users/ashish.jha/opt/anaconda3/lib/python3.7/site-packages/onnx_tf/handlers/backend/xor.py:10: The name tf.logical_xor is deprecated. Please use tf.math.logical_xor instead.\n",
      "\n"
     ]
    },
    {
     "name": "stderr",
     "output_type": "stream",
     "text": [
      "/Users/ashish.jha/opt/anaconda3/lib/python3.7/site-packages/onnx_tf/common/handler_helper.py:37: UserWarning: Unknown op ConstantFill in domain `ai.onnx`.\n",
      "  handler.ONNX_OP, handler.DOMAIN or \"ai.onnx\"))\n",
      "/Users/ashish.jha/opt/anaconda3/lib/python3.7/site-packages/onnx_tf/common/handler_helper.py:34: UserWarning: Fail to get since_version of ConvInteger in domain `` with max_inclusive_version=9. Set to 1.\n",
      "  handler.ONNX_OP, handler.DOMAIN, version))\n",
      "/Users/ashish.jha/opt/anaconda3/lib/python3.7/site-packages/onnx_tf/common/handler_helper.py:34: UserWarning: Fail to get since_version of DequantizeLinear in domain `` with max_inclusive_version=9. Set to 1.\n",
      "  handler.ONNX_OP, handler.DOMAIN, version))\n",
      "/Users/ashish.jha/opt/anaconda3/lib/python3.7/site-packages/onnx_tf/common/handler_helper.py:34: UserWarning: Fail to get since_version of GatherND in domain `` with max_inclusive_version=9. Set to 1.\n",
      "  handler.ONNX_OP, handler.DOMAIN, version))\n",
      "/Users/ashish.jha/opt/anaconda3/lib/python3.7/site-packages/onnx_tf/common/handler_helper.py:37: UserWarning: Unknown op ImageScaler in domain `ai.onnx`.\n",
      "  handler.ONNX_OP, handler.DOMAIN or \"ai.onnx\"))\n",
      "/Users/ashish.jha/opt/anaconda3/lib/python3.7/site-packages/onnx_tf/common/handler_helper.py:34: UserWarning: Fail to get since_version of IsInf in domain `` with max_inclusive_version=9. Set to 1.\n",
      "  handler.ONNX_OP, handler.DOMAIN, version))\n",
      "/Users/ashish.jha/opt/anaconda3/lib/python3.7/site-packages/onnx_tf/common/handler_helper.py:34: UserWarning: Fail to get since_version of MatMulInteger in domain `` with max_inclusive_version=9. Set to 1.\n",
      "  handler.ONNX_OP, handler.DOMAIN, version))\n",
      "/Users/ashish.jha/opt/anaconda3/lib/python3.7/site-packages/onnx_tf/common/handler_helper.py:34: UserWarning: Fail to get since_version of Mod in domain `` with max_inclusive_version=9. Set to 1.\n",
      "  handler.ONNX_OP, handler.DOMAIN, version))\n",
      "/Users/ashish.jha/opt/anaconda3/lib/python3.7/site-packages/onnx_tf/common/handler_helper.py:34: UserWarning: Fail to get since_version of NonMaxSuppression in domain `` with max_inclusive_version=9. Set to 1.\n",
      "  handler.ONNX_OP, handler.DOMAIN, version))\n",
      "/Users/ashish.jha/opt/anaconda3/lib/python3.7/site-packages/onnx_tf/common/handler_helper.py:34: UserWarning: Fail to get since_version of QLinearConv in domain `` with max_inclusive_version=9. Set to 1.\n",
      "  handler.ONNX_OP, handler.DOMAIN, version))\n",
      "/Users/ashish.jha/opt/anaconda3/lib/python3.7/site-packages/onnx_tf/common/handler_helper.py:34: UserWarning: Fail to get since_version of QLinearMatMul in domain `` with max_inclusive_version=9. Set to 1.\n",
      "  handler.ONNX_OP, handler.DOMAIN, version))\n",
      "/Users/ashish.jha/opt/anaconda3/lib/python3.7/site-packages/onnx_tf/common/handler_helper.py:34: UserWarning: Fail to get since_version of QuantizeLinear in domain `` with max_inclusive_version=9. Set to 1.\n",
      "  handler.ONNX_OP, handler.DOMAIN, version))\n",
      "/Users/ashish.jha/opt/anaconda3/lib/python3.7/site-packages/onnx_tf/common/handler_helper.py:34: UserWarning: Fail to get since_version of Range in domain `` with max_inclusive_version=9. Set to 1.\n",
      "  handler.ONNX_OP, handler.DOMAIN, version))\n",
      "/Users/ashish.jha/opt/anaconda3/lib/python3.7/site-packages/onnx_tf/common/handler_helper.py:34: UserWarning: Fail to get since_version of Resize in domain `` with max_inclusive_version=9. Set to 1.\n",
      "  handler.ONNX_OP, handler.DOMAIN, version))\n",
      "/Users/ashish.jha/opt/anaconda3/lib/python3.7/site-packages/onnx_tf/common/handler_helper.py:34: UserWarning: Fail to get since_version of ReverseSequence in domain `` with max_inclusive_version=9. Set to 1.\n",
      "  handler.ONNX_OP, handler.DOMAIN, version))\n",
      "/Users/ashish.jha/opt/anaconda3/lib/python3.7/site-packages/onnx_tf/common/handler_helper.py:34: UserWarning: Fail to get since_version of Round in domain `` with max_inclusive_version=9. Set to 1.\n",
      "  handler.ONNX_OP, handler.DOMAIN, version))\n",
      "/Users/ashish.jha/opt/anaconda3/lib/python3.7/site-packages/onnx_tf/common/handler_helper.py:34: UserWarning: Fail to get since_version of ScatterElements in domain `` with max_inclusive_version=9. Set to 1.\n",
      "  handler.ONNX_OP, handler.DOMAIN, version))\n",
      "/Users/ashish.jha/opt/anaconda3/lib/python3.7/site-packages/onnx_tf/common/handler_helper.py:34: UserWarning: Fail to get since_version of ScatterND in domain `` with max_inclusive_version=9. Set to 1.\n",
      "  handler.ONNX_OP, handler.DOMAIN, version))\n",
      "/Users/ashish.jha/opt/anaconda3/lib/python3.7/site-packages/onnx_tf/common/handler_helper.py:34: UserWarning: Fail to get since_version of ThresholdedRelu in domain `` with max_inclusive_version=9. Set to 1.\n",
      "  handler.ONNX_OP, handler.DOMAIN, version))\n"
     ]
    },
    {
     "name": "stdout",
     "output_type": "stream",
     "text": [
      "WARNING:tensorflow:From /Users/ashish.jha/opt/anaconda3/lib/python3.7/site-packages/onnx_tf/backend.py:123: The name tf.placeholder is deprecated. Please use tf.compat.v1.placeholder instead.\n",
      "\n",
      "WARNING:tensorflow:From /Users/ashish.jha/opt/anaconda3/lib/python3.7/site-packages/onnx_tf/handlers/backend_handler.py:182: flatten (from tensorflow.python.layers.core) is deprecated and will be removed in a future version.\n",
      "Instructions for updating:\n",
      "Use keras.layers.flatten instead.\n",
      "WARNING:tensorflow:From /Users/ashish.jha/opt/anaconda3/lib/python3.7/site-packages/tensorflow_core/python/layers/core.py:332: Layer.apply (from tensorflow.python.keras.engine.base_layer) is deprecated and will be removed in a future version.\n",
      "Instructions for updating:\n",
      "Please use `layer.__call__` method instead.\n"
     ]
    }
   ],
   "source": [
    "import onnx\n",
    "from onnx_tf.backend import prepare\n",
    "\n",
    "model_onnx = onnx.load(\"./convnet.onnx\")\n",
    "tf_rep = prepare(model_onnx)\n",
    "tf_rep.export_graph(\"./convnet.pb\")"
   ]
  },
  {
   "cell_type": "code",
   "execution_count": 10,
   "metadata": {},
   "outputs": [
    {
     "name": "stdout",
     "output_type": "stream",
     "text": [
      "(<tf.Tensor 'Const:0' shape=(16,) dtype=float32>,)\n",
      "(<tf.Tensor 'Const_1:0' shape=(16, 1, 3, 3) dtype=float32>,)\n",
      "(<tf.Tensor 'Const_2:0' shape=(32,) dtype=float32>,)\n",
      "(<tf.Tensor 'Const_3:0' shape=(32, 16, 3, 3) dtype=float32>,)\n",
      "(<tf.Tensor 'Const_4:0' shape=(64,) dtype=float32>,)\n",
      "(<tf.Tensor 'Const_5:0' shape=(64, 4608) dtype=float32>,)\n",
      "(<tf.Tensor 'Const_6:0' shape=(10,) dtype=float32>,)\n",
      "(<tf.Tensor 'Const_7:0' shape=(10, 64) dtype=float32>,)\n",
      "(<tf.Tensor 'input.1:0' shape=(1, 1, 28, 28) dtype=float32>,)\n",
      "(<tf.Tensor 'transpose/perm:0' shape=(4,) dtype=int32>,)\n",
      "(<tf.Tensor 'transpose:0' shape=(3, 3, 1, 16) dtype=float32>,)\n",
      "(<tf.Tensor 'Const_8:0' shape=() dtype=int32>,)\n",
      "(<tf.Tensor 'split/split_dim:0' shape=() dtype=int32>,)\n",
      "(<tf.Tensor 'split:0' shape=(3, 3, 1, 16) dtype=float32>,)\n",
      "(<tf.Tensor 'transpose_1/perm:0' shape=(4,) dtype=int32>,)\n",
      "(<tf.Tensor 'transpose_1:0' shape=(1, 28, 28, 1) dtype=float32>,)\n",
      "(<tf.Tensor 'Const_9:0' shape=() dtype=int32>,)\n",
      "(<tf.Tensor 'split_1/split_dim:0' shape=() dtype=int32>,)\n",
      "(<tf.Tensor 'split_1:0' shape=(1, 28, 28, 1) dtype=float32>,)\n",
      "(<tf.Tensor 'convolution:0' shape=(1, 26, 26, 16) dtype=float32>,)\n",
      "(<tf.Tensor 'concat/concat_dim:0' shape=() dtype=int32>,)\n",
      "(<tf.Tensor 'concat/concat:0' shape=(1, 26, 26, 16) dtype=float32>,)\n",
      "(<tf.Tensor 'Add:0' shape=(1, 26, 26, 16) dtype=float32>,)\n",
      "(<tf.Tensor 'transpose_2/perm:0' shape=(4,) dtype=int32>,)\n",
      "(<tf.Tensor 'transpose_2:0' shape=(1, 16, 26, 26) dtype=float32>,)\n",
      "(<tf.Tensor 'Relu_1:0' shape=(1, 16, 26, 26) dtype=float32>,)\n",
      "(<tf.Tensor 'transpose_3/perm:0' shape=(4,) dtype=int32>,)\n",
      "(<tf.Tensor 'transpose_3:0' shape=(3, 3, 16, 32) dtype=float32>,)\n",
      "(<tf.Tensor 'Const_10:0' shape=() dtype=int32>,)\n",
      "(<tf.Tensor 'split_2/split_dim:0' shape=() dtype=int32>,)\n",
      "(<tf.Tensor 'split_2:0' shape=(3, 3, 16, 32) dtype=float32>,)\n",
      "(<tf.Tensor 'transpose_4/perm:0' shape=(4,) dtype=int32>,)\n",
      "(<tf.Tensor 'transpose_4:0' shape=(1, 26, 26, 16) dtype=float32>,)\n",
      "(<tf.Tensor 'Const_11:0' shape=() dtype=int32>,)\n",
      "(<tf.Tensor 'split_3/split_dim:0' shape=() dtype=int32>,)\n",
      "(<tf.Tensor 'split_3:0' shape=(1, 26, 26, 16) dtype=float32>,)\n",
      "(<tf.Tensor 'convolution_1:0' shape=(1, 24, 24, 32) dtype=float32>,)\n",
      "(<tf.Tensor 'concat_1/concat_dim:0' shape=() dtype=int32>,)\n",
      "(<tf.Tensor 'concat_1/concat:0' shape=(1, 24, 24, 32) dtype=float32>,)\n",
      "(<tf.Tensor 'Add_1:0' shape=(1, 24, 24, 32) dtype=float32>,)\n",
      "(<tf.Tensor 'transpose_5/perm:0' shape=(4,) dtype=int32>,)\n",
      "(<tf.Tensor 'transpose_5:0' shape=(1, 32, 24, 24) dtype=float32>,)\n",
      "(<tf.Tensor 'Relu_3:0' shape=(1, 32, 24, 24) dtype=float32>,)\n",
      "(<tf.Tensor 'transpose_6/perm:0' shape=(4,) dtype=int32>,)\n",
      "(<tf.Tensor 'transpose_6:0' shape=(1, 24, 24, 32) dtype=float32>,)\n",
      "(<tf.Tensor 'max_pool/dilation_rate:0' shape=(2,) dtype=int32>,)\n",
      "(<tf.Tensor 'max_pool:0' shape=(1, 12, 12, 32) dtype=float32>,)\n",
      "(<tf.Tensor 'transpose_7/perm:0' shape=(4,) dtype=int32>,)\n",
      "(<tf.Tensor 'transpose_7:0' shape=(1, 32, 12, 12) dtype=float32>,)\n",
      "(<tf.Tensor 'Shape:0' shape=(4,) dtype=int32>,)\n",
      "(<tf.Tensor 'Flatten_5/Reshape/shape:0' shape=(2,) dtype=int32>,)\n",
      "(<tf.Tensor 'Flatten_5/Reshape:0' shape=(1, 4608) dtype=float32>,)\n",
      "(<tf.Tensor 'flatten/Reshape/shape:0' shape=(2,) dtype=int32>,)\n",
      "(<tf.Tensor 'flatten/Reshape:0' shape=(1, 4608) dtype=float32>,)\n",
      "(<tf.Tensor 'transpose_8/perm:0' shape=(2,) dtype=int32>,)\n",
      "(<tf.Tensor 'transpose_8:0' shape=(4608, 64) dtype=float32>,)\n",
      "(<tf.Tensor 'MatMul:0' shape=(1, 64) dtype=float32>,)\n",
      "(<tf.Tensor 'mul/x:0' shape=() dtype=float32>,)\n",
      "(<tf.Tensor 'mul:0' shape=(1, 64) dtype=float32>,)\n",
      "(<tf.Tensor 'mul_1/x:0' shape=() dtype=float32>,)\n",
      "(<tf.Tensor 'mul_1:0' shape=(64,) dtype=float32>,)\n",
      "(<tf.Tensor 'add_2:0' shape=(1, 64) dtype=float32>,)\n",
      "(<tf.Tensor 'Relu_7:0' shape=(1, 64) dtype=float32>,)\n",
      "(<tf.Tensor 'flatten_1/Reshape/shape:0' shape=(2,) dtype=int32>,)\n",
      "(<tf.Tensor 'flatten_1/Reshape:0' shape=(1, 64) dtype=float32>,)\n",
      "(<tf.Tensor 'transpose_9/perm:0' shape=(2,) dtype=int32>,)\n",
      "(<tf.Tensor 'transpose_9:0' shape=(64, 10) dtype=float32>,)\n",
      "(<tf.Tensor 'MatMul_1:0' shape=(1, 10) dtype=float32>,)\n",
      "(<tf.Tensor 'mul_2/x:0' shape=() dtype=float32>,)\n",
      "(<tf.Tensor 'mul_2:0' shape=(1, 10) dtype=float32>,)\n",
      "(<tf.Tensor 'mul_3/x:0' shape=() dtype=float32>,)\n",
      "(<tf.Tensor 'mul_3:0' shape=(10,) dtype=float32>,)\n",
      "(<tf.Tensor 'add_3:0' shape=(1, 10) dtype=float32>,)\n",
      "(<tf.Tensor '18:0' shape=(1, 10) dtype=float32>,)\n"
     ]
    }
   ],
   "source": [
    "with tf.gfile.GFile(\"./convnet.pb\", \"rb\") as f:\n",
    "    graph_definition = tf.GraphDef()\n",
    "    graph_definition.ParseFromString(f.read())\n",
    "    \n",
    "with tf.Graph().as_default() as model_graph:\n",
    "    tf.import_graph_def(graph_definition, name=\"\")\n",
    "    \n",
    "for op in model_graph.get_operations():\n",
    "    print(op.values())"
   ]
  },
  {
   "cell_type": "code",
   "execution_count": 12,
   "metadata": {},
   "outputs": [
    {
     "name": "stdout",
     "output_type": "stream",
     "text": [
      "[[-9.35050774e+00 -1.20893326e+01 -2.23922171e-03 -8.92477798e+00\n",
      "  -9.81972313e+00 -1.33498535e+01 -9.04598618e+00 -1.44924192e+01\n",
      "  -6.30233145e+00 -1.22827682e+01]]\n"
     ]
    }
   ],
   "source": [
    "model_output = model_graph.get_tensor_by_name('18:0')\n",
    "model_input = model_graph.get_tensor_by_name('input.1:0')\n",
    "\n",
    "sess = tf.Session(graph=model_graph)\n",
    "output = sess.run(model_output, feed_dict={model_input: input_tensor.unsqueeze(0)})\n",
    "print(output)"
   ]
  },
  {
   "cell_type": "code",
   "execution_count": null,
   "metadata": {},
   "outputs": [],
   "source": []
  }
 ],
 "metadata": {
  "kernelspec": {
   "display_name": "Python 3",
   "language": "python",
   "name": "python3"
  },
  "language_info": {
   "codemirror_mode": {
    "name": "ipython",
    "version": 3
   },
   "file_extension": ".py",
   "mimetype": "text/x-python",
   "name": "python",
   "nbconvert_exporter": "python",
   "pygments_lexer": "ipython3",
   "version": "3.7.6"
  }
 },
 "nbformat": 4,
 "nbformat_minor": 4
}
